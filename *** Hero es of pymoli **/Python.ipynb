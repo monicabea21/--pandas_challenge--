{
  "nbformat": 4,
  "nbformat_minor": 0,
  "metadata": {
    "colab": {
      "name": "Python.ipynb",
      "provenance": [],
      "collapsed_sections": []
    },
    "kernelspec": {
      "name": "python3",
      "display_name": "Python 3"
    }
  },
  "cells": [
    {
      "cell_type": "markdown",
      "metadata": {
        "id": "2zWbLghH-s_s",
        "colab_type": "text"
      },
      "source": [
        "Heroes Of Pymoli Data Analysis\n",
        "Of the 1163 active players, the vast majority are male (84%). There also exists, a smaller, but notable proportion of female players (14%).\n",
        "Our peak age demographic falls between 20-24 (44.8%) with secondary groups falling between 15-19 (18.60%) and 25-29 (13.4%)."
      ]
    },
    {
      "cell_type": "code",
      "metadata": {
        "id": "Jf7s9xnpFCpL",
        "colab_type": "code",
        "colab": {
          "resources": {
            "http://localhost:8080/nbextensions/google.colab/files.js": {
              "data": "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",
              "ok": true,
              "headers": [
                [
                  "content-type",
                  "application/javascript"
                ]
              ],
              "status": 200,
              "status_text": ""
            }
          },
          "base_uri": "https://localhost:8080/",
          "height": 128
        },
        "outputId": "8acde856-9306-4568-e46f-f872c2f15d46"
      },
      "source": [
        "from google.colab import files\n",
        "files.upload()"
      ],
      "execution_count": 3,
      "outputs": [
        {
          "output_type": "display_data",
          "data": {
            "text/html": [
              "\n",
              "     <input type=\"file\" id=\"files-1c29ccdc-b64c-4b6c-b94f-613ceed2ac2e\" name=\"files[]\" multiple disabled\n",
              "        style=\"border:none\" />\n",
              "     <output id=\"result-1c29ccdc-b64c-4b6c-b94f-613ceed2ac2e\">\n",
              "      Upload widget is only available when the cell has been executed in the\n",
              "      current browser session. Please rerun this cell to enable.\n",
              "      </output>\n",
              "      <script src=\"/nbextensions/google.colab/files.js\"></script> "
            ],
            "text/plain": [
              "<IPython.core.display.HTML object>"
            ]
          },
          "metadata": {
            "tags": []
          }
        },
        {
          "output_type": "stream",
          "text": [
            "Saving purchase_data.csv to purchase_data (2).csv\n"
          ],
          "name": "stdout"
        },
        {
          "output_type": "execute_result",
          "data": {
            "text/plain": [
              "{'purchase_data.csv': b'Purchase ID,SN,Age,Gender,Item ID,Item Name,Price\\r\\n0,Lisim78,20,Male,108,\"Extraction, Quickblade Of Trembling Hands\",3.53\\r\\n1,Lisovynya38,40,Male,143,Frenzied Scimitar,1.56\\r\\n2,Ithergue48,24,Male,92,Final Critic,4.88\\r\\n3,Chamassasya86,24,Male,100,Blindscythe,3.27\\r\\n4,Iskosia90,23,Male,131,Fury,1.44\\r\\n5,Yalae81,22,Male,81,Dreamkiss,3.61\\r\\n6,Itheria73,36,Male,169,\"Interrogator, Blood Blade of the Queen\",2.18\\r\\n7,Iskjaskst81,20,Male,162,Abyssal Shard,2.67\\r\\n8,Undjask33,22,Male,21,Souleater,1.1\\r\\n9,Chanosian48,35,Other / Non-Disclosed,136,Ghastly Adamantite Protector,3.58\\r\\n10,Inguron55,23,Male,95,Singed Onyx Warscythe,4.74\\r\\n11,Haisrisuir60,23,Male,162,Abyssal Shard,2.67\\r\\n12,Saelaephos52,21,Male,116,Renewed Skeletal Katana,4.18\\r\\n13,Assjaskan73,22,Male,4,Bloodlord\\'s Fetish,1.7\\r\\n14,Saesrideu94,35,Male,165,Bone Crushing Silver Skewer,4.86\\r\\n15,Lisassa64,21,Female,98,\"Deadline, Voice Of Subtlety\",2.89\\r\\n16,Lisirra25,20,Male,40,Second Chance,2.52\\r\\n17,Zontibe81,21,Male,161,Devine,1.76\\r\\n18,Reunasu60,22,Female,82,Nirvana,4.9\\r\\n19,Chamalo71,30,Male,89,\"Blazefury, Protector of Delusions\",4.64\\r\\n20,Iathenudil29,20,Male,57,\"Despair, Favor of Due Diligence\",4.6\\r\\n21,Phiarithdeu40,20,Male,168,\"Sun Strike, Jaws of Twisted Visions\",1.48\\r\\n22,Siarithria38,38,Other / Non-Disclosed,24,Warped Fetish,3.81\\r\\n23,Eyrian71,40,Male,151,Severance,3.4\\r\\n24,Siala43,30,Male,132,Persuasion,3.19\\r\\n25,Lisirra87,29,Male,178,\"Oathbreaker, Last Hope of the Breaking Storm\",4.23\\r\\n26,Lirtossa84,11,Male,71,Demise,1.61\\r\\n27,Eusri44,7,Male,96,Blood-Forged Skeletal Spine,3.09\\r\\n28,Aela59,21,Male,119,\"Stormbringer, Dark Blade of Ending Misery\",4.32\\r\\n29,Tyida79,24,Male,37,\"Shadow Strike, Glory of Ending Hope\",3.16\\r\\n30,Idai61,19,Male,140,Striker,2.94\\r\\n31,Farusrian86,37,Male,179,\"Wolf, Promise of the Moonwalker\",4.48\\r\\n32,Aeralria27,10,Male,133,Faith\\'s Scimitar,4.09\\r\\n33,Haillyrgue51,7,Male,44,Bonecarvin Battle Axe,2.38\\r\\n34,Sondim73,19,Male,160,Azurewrath,4.4\\r\\n35,Jeyciman68,22,Male,53,Vengeance Cleaver,2.05\\r\\n36,Idaisuir85,30,Male,76,Haunted Bronzed Bludgeon,3.15\\r\\n37,Seuthep89,8,Male,73,Ritual Mace,2.05\\r\\n38,Reulae52,10,Female,116,Renewed Skeletal Katana,4.18\\r\\n39,Sondilsaya62,21,Male,172,Blade of the Grave,3.14\\r\\n40,Aerithriaphos45,20,Male,143,Frenzied Scimitar,1.56\\r\\n41,Assosia88,20,Female,7,\"Thorn, Satchel of Dark Souls\",1.33\\r\\n42,Aidaillodeu39,18,Male,72,Winter\\'s Bite,3.77\\r\\n43,Aelly27,24,Male,116,Renewed Skeletal Katana,4.18\\r\\n44,Tyeosri53,24,Male,9,\"Thorn, Conqueror of the Corrupted\",2.73\\r\\n45,Haerith37,23,Male,181,Reaper\\'s Toll,1.66\\r\\n46,Yasrisu92,27,Male,102,Avenger,3.44\\r\\n47,Chanuchi25,20,Male,170,Shadowsteel,3.97\\r\\n48,Asur96,20,Male,138,\"Peacekeeper, Wit of Dark Magic\",4.74\\r\\n49,Iaralrgue74,33,Male,110,Suspension,1.44\\r\\n50,Saelaephos52,21,Male,22,Amnesia,2.18\\r\\n51,Chanosia34,22,Male,15,Soul Infused Crystal,2.96\\r\\n52,Aelin32,20,Male,60,Wolf,3.54\\r\\n53,Ilosianya35,32,Male,176,Relentless Iron Skewer,2.84\\r\\n54,Zhisrisu83,10,Male,25,Hero Cane,4.35\\r\\n55,Phaelap26,25,Female,84,Arcane Gem,3.79\\r\\n56,Raesty92,12,Male,108,\"Extraction, Quickblade Of Trembling Hands\",3.53\\r\\n57,Palyon91,21,Male,80,Dreamsong,3.39\\r\\n58,Tyisur83,23,Male,152,Darkheart,1.74\\r\\n59,Yaliru88,19,Male,105,Hailstorm Shadowsteel Scythe,3.03\\r\\n60,Yadanu52,34,Male,44,Bonecarvin Battle Axe,2.38\\r\\n61,Jiskimya77,17,Male,178,\"Oathbreaker, Last Hope of the Breaking Storm\",4.23\\r\\n62,Yadaphos40,30,Male,178,\"Oathbreaker, Last Hope of the Breaking Storm\",4.23\\r\\n63,Alo38,20,Male,125,Whistling Mithril Warblade,1\\r\\n64,Phaena87,20,Male,56,Foul Titanium Battle Axe,2.92\\r\\n65,Chamirraya83,25,Male,34,Retribution Axe,2.22\\r\\n66,Chanastsda67,21,Female,6,Rusty Skull,3.7\\r\\n67,Lisim78,20,Male,138,\"Peacekeeper, Wit of Dark Magic\",4.74\\r\\n68,Indonmol95,15,Male,27,\"Riddle, Tribute of Ended Dreams\",3.3\\r\\n69,Jiskossa61,24,Male,37,\"Shadow Strike, Glory of Ending Hope\",3.16\\r\\n70,Pheodai94,29,Male,143,Frenzied Scimitar,1.56\\r\\n71,Hari50,20,Female,29,\"Chaos, Ender of the End\",1.98\\r\\n72,Marilsa69,25,Female,178,\"Oathbreaker, Last Hope of the Breaking Storm\",4.23\\r\\n73,Assistasda42,21,Male,68,\"Storm-Weaver, Slayer of Inception\",4.32\\r\\n74,Lisosia93,25,Male,89,\"Blazefury, Protector of Delusions\",4.64\\r\\n75,Philodil43,33,Male,124,Venom Claymore,1.29\\r\\n76,Mindadaran26,13,Female,88,\"Emberling, Defender of Delusions\",3.75\\r\\n77,Lirtosia63,34,Male,20,Netherbane,3.27\\r\\n78,Haillyrgue51,7,Male,50,Dawn,4.6\\r\\n79,Assjaskan56,26,Male,15,Soul Infused Crystal,2.96\\r\\n80,Irithlis29,23,Male,165,Bone Crushing Silver Skewer,4.86\\r\\n81,Heudai45,8,Female,174,Primitive Blade,3.47\\r\\n82,Haerithp41,16,Other / Non-Disclosed,160,Azurewrath,4.4\\r\\n83,Aina42,25,Male,12,Dawne,1.02\\r\\n84,Jiskjask60,21,Female,34,Retribution Axe,2.22\\r\\n85,Umolrian85,32,Female,33,Curved Axe,1.16\\r\\n86,Qarirwen82,33,Male,129,\"Fate, Vengeance of Eternal Justice\",1.54\\r\\n87,Aelin32,20,Male,151,Severance,3.4\\r\\n88,Laedallo55,30,Male,82,Nirvana,4.9\\r\\n89,Eoralrap26,22,Male,17,\"Lazarus, Terror of the Earth\",1.7\\r\\n90,Undosian34,21,Male,60,Wolf,3.54\\r\\n91,Chadolyla44,20,Male,59,\"Lightning, Etcher of the King\",4.23\\r\\n92,Chadistaya75,21,Female,39,\"Betrayal, Whisper of Grieving Widows\",3.94\\r\\n93,Yathedeu43,22,Male,88,\"Emberling, Defender of Delusions\",3.75\\r\\n94,Aina43,19,Male,96,Blood-Forged Skeletal Spine,3.09\\r\\n95,Ilassast39,18,Male,164,Exiled Doomblade,1.63\\r\\n96,Lisassala98,16,Male,56,Foul Titanium Battle Axe,2.92\\r\\n97,Aiduecal76,20,Male,134,Undead Crusader,4.5\\r\\n98,Chadossa89,23,Male,132,Persuasion,3.19\\r\\n99,Haisrisuir60,23,Male,92,Final Critic,4.19\\r\\n100,Pheodaisun84,30,Male,12,Dawne,1.02\\r\\n101,Heollyriap59,21,Male,174,Primitive Blade,3.47\\r\\n102,Maropast28,24,Male,109,\"Downfall, Scalpel Of The Emperor\",4.76\\r\\n103,Frichim77,24,Male,7,\"Thorn, Satchel of Dark Souls\",1.33\\r\\n104,Thryallym62,24,Male,53,Vengeance Cleaver,2.05\\r\\n105,Eulanurin88,27,Male,10,Sleepwalker,1.79\\r\\n106,Lassjaskan73,22,Male,54,Eternal Cleaver,2.5\\r\\n107,Tyaerith73,36,Male,99,\"Expiration, Warscythe Of Lost Worlds\",1.71\\r\\n108,Sondadarya58,19,Male,85,Malificent Bag,1.75\\r\\n109,Hirirap39,22,Male,33,Curved Axe,1.16\\r\\n110,Ririp86,25,Male,139,\"Mercy, Katana of Dismay\",4.94\\r\\n111,Sundim98,21,Other / Non-Disclosed,41,Orbit,4.75\\r\\n112,Iskichinya81,21,Female,7,\"Thorn, Satchel of Dark Souls\",1.33\\r\\n113,Phyali88,15,Female,140,Striker,2.94\\r\\n114,Undirrala66,22,Male,150,Deathraze,2.85\\r\\n115,Nitherian58,28,Male,13,Serenity,1.41\\r\\n116,Lassilsala30,21,Male,139,\"Mercy, Katana of Dismay\",4.94\\r\\n117,Frichaststa61,21,Female,117,\"Heartstriker, Legacy of the Light\",1.79\\r\\n118,Pheodaisun84,30,Male,78,\"Glimmer, Ender of the Moon\",4.4\\r\\n119,Frichosia58,15,Female,87,\"Deluge, Edge of the West\",4.43\\r\\n120,Lisosia93,25,Male,24,Warped Fetish,3.81\\r\\n121,Ilosia37,23,Male,1,Crucifer,3.26\\r\\n122,Lisista27,16,Male,174,Primitive Blade,3.47\\r\\n123,Seudaillorap38,27,Male,81,Dreamkiss,3.61\\r\\n124,Aesty53,21,Male,150,Deathraze,2.85\\r\\n125,Yathecal82,20,Female,62,Piece Maker,1.87\\r\\n126,Frichim77,24,Male,75,Brutality Ivory Warmace,2.42\\r\\n127,Lisossanya98,37,Male,102,Avenger,3.44\\r\\n128,Iral74,21,Male,58,\"Freak\\'s Bite, Favor of Holy Might\",4.14\\r\\n129,Lisast87,19,Male,74,Yearning Crusher,4.18\\r\\n130,Maridisya31,25,Male,120,Agatha,3.08\\r\\n131,Jiskassa76,22,Male,62,Piece Maker,1.87\\r\\n132,Inguron55,23,Male,145,Fiery Glass Crusader,4.58\\r\\n133,Phaena87,20,Male,0,Splinter,1.28\\r\\n134,Phyali88,15,Female,2,Verdict,2.48\\r\\n135,Ethriel85,30,Male,146,Warped Iron Scimitar,3.1\\r\\n136,Iskirra45,22,Male,105,Hailstorm Shadowsteel Scythe,3.03\\r\\n137,Iri67,20,Male,179,\"Wolf, Promise of the Moonwalker\",4.48\\r\\n138,Rarallo90,33,Male,136,Ghastly Adamantite Protector,3.58\\r\\n139,Lisasi93,13,Male,158,\"Darkheart, Butcher of the Champion\",2.45\\r\\n140,Hari50,20,Female,8,\"Purgatory, Gem of Regret\",3.93\\r\\n141,Zhisrisu83,10,Male,60,Wolf,3.54\\r\\n142,Adastirin33,35,Female,175,Woeful Adamantite Claymore,4.48\\r\\n143,Eyista89,34,Male,124,Venom Claymore,1.29\\r\\n144,Ili43,18,Male,22,Amnesia,2.18\\r\\n145,Chamirra53,23,Male,46,Hopeless Ebon Dualblade,1.33\\r\\n146,Aidaillodeu39,18,Male,133,Faith\\'s Scimitar,4.09\\r\\n147,Hailaphos89,35,Male,24,Warped Fetish,3.81\\r\\n148,Iskadarya95,20,Male,148,\"Warmonger, Gift of Suffering\\'s End\",4.03\\r\\n149,Qilatista90,17,Male,161,Devine,1.76\\r\\n150,Inasti31,17,Male,0,Splinter,1.28\\r\\n151,Marilsanya48,25,Male,105,Hailstorm Shadowsteel Scythe,3.03\\r\\n152,Marjask87,20,Male,110,Suspension,1.44\\r\\n153,Chanjaskan89,21,Male,164,Exiled Doomblade,1.63\\r\\n154,Hyaduesu61,20,Male,59,\"Lightning, Etcher of the King\",4.23\\r\\n155,Aillyrin83,10,Female,98,\"Deadline, Voice Of Subtlety\",2.89\\r\\n156,Eyrian71,40,Male,117,\"Heartstriker, Legacy of the Light\",1.79\\r\\n157,Marast30,18,Female,108,\"Extraction, Quickblade Of Trembling Hands\",3.53\\r\\n158,Sundadar27,31,Male,111,Misery\\'s End,4.89\\r\\n159,Tyaelorap29,25,Male,39,\"Betrayal, Whisper of Grieving Widows\",3.94\\r\\n160,Lirtimst73,24,Male,44,Bonecarvin Battle Axe,2.38\\r\\n161,Iri67,20,Male,3,Phantomlight,2.49\\r\\n162,Styaduen40,17,Male,181,Reaper\\'s Toll,1.66\\r\\n163,Sidap51,11,Male,65,Conqueror Adamantite Mace,4.24\\r\\n164,Chanastst38,22,Male,96,Blood-Forged Skeletal Spine,3.09\\r\\n165,Lirtassa52,15,Male,183,Dragon\\'s Greatsword,1.09\\r\\n166,Sondim68,22,Female,30,Stormcaller,2.21\\r\\n167,Aeral97,23,Male,157,\"Spada, Etcher of Hatred\",4.8\\r\\n168,Iskjaskst81,20,Male,85,Malificent Bag,1.75\\r\\n169,Heosurnuru52,16,Female,123,Twilight\\'s Carver,2.28\\r\\n170,Lisopela58,22,Male,75,Brutality Ivory Warmace,2.42\\r\\n171,Caesrinusuir82,30,Male,102,Avenger,3.44\\r\\n172,Tyirinu79,21,Male,65,Conqueror Adamantite Mace,4.24\\r\\n173,Fironon91,30,Male,5,Putrid Fan,4.08\\r\\n174,Lassjask63,30,Male,144,Blood Infused Guardian,1.94\\r\\n175,Indcil77,17,Male,103,Singed Scalpel,4.35\\r\\n176,Chamimla73,17,Male,157,\"Spada, Etcher of Hatred\",4.8\\r\\n177,Syathe73,30,Female,135,Warped Diamond Crusader,1.4\\r\\n178,Baelollodeu94,20,Female,57,\"Despair, Favor of Due Diligence\",4.6\\r\\n179,Mindista32,24,Male,59,\"Lightning, Etcher of the King\",4.23\\r\\n180,Saena74,24,Male,95,Singed Onyx Warscythe,4.74\\r\\n181,Marirrasta50,16,Male,51,Endbringer,4.66\\r\\n182,Lamil79,38,Male,154,Feral Katana,4.4\\r\\n183,Aenarap34,21,Male,15,Soul Infused Crystal,2.96\\r\\n184,Aisur51,28,Male,32,Orenmir,1.14\\r\\n185,Thrientossa55,20,Male,150,Deathraze,2.85\\r\\n186,Chadista79,30,Male,77,\"Piety, Guardian of Riddles\",4\\r\\n187,Tyeurith29,8,Male,11,Brimstone,3.65\\r\\n188,Malunil62,18,Male,88,\"Emberling, Defender of Delusions\",3.75\\r\\n189,Hiasri33,23,Male,63,Stormfury Mace,4.99\\r\\n190,Lisadar44,27,Male,69,\"Frenzy, Defender of the Harvest\",1.98\\r\\n191,Frichjask31,23,Male,87,\"Deluge, Edge of the West\",4.43\\r\\n192,Lisjaskya84,25,Male,98,\"Deadline, Voice Of Subtlety\",2.89\\r\\n193,Ristydru66,27,Male,62,Piece Maker,1.87\\r\\n194,Frichast28,20,Male,73,Ritual Mace,2.05\\r\\n195,Minduri31,39,Male,113,Solitude\\'s Reaver,4.07\\r\\n196,Maradaran90,35,Female,9,\"Thorn, Conqueror of the Corrupted\",2.73\\r\\n197,Mindetosya30,24,Male,37,\"Shadow Strike, Glory of Ending Hope\",3.16\\r\\n198,Chadolyla44,20,Male,153,Mercenary Sabre,3.74\\r\\n199,Ialallo29,15,Female,138,\"Peacekeeper, Wit of Dark Magic\",4.74\\r\\n200,Pheusrical25,23,Male,114,Yearning Mageblade,3.82\\r\\n201,Chanosia60,31,Male,2,Verdict,2.48\\r\\n202,Phistym51,37,Male,82,Nirvana,4.9\\r\\n203,Aelollo59,33,Male,3,Phantomlight,2.49\\r\\n204,Chamimla85,16,Male,0,Splinter,1.28\\r\\n205,Jiskimya77,17,Male,149,\"Tranquility, Razor of Black Magic\",1.75\\r\\n206,Haisurra41,20,Female,78,\"Glimmer, Ender of the Moon\",4.4\\r\\n207,Sondastsda82,24,Male,145,Fiery Glass Crusader,4.58\\r\\n208,Qilanrion65,37,Male,105,Hailstorm Shadowsteel Scythe,3.03\\r\\n209,Eulasuir89,22,Male,162,Abyssal Shard,2.67\\r\\n210,Umolrian85,32,Female,136,Ghastly Adamantite Protector,3.58\\r\\n211,Eosrirgue62,17,Male,120,Agatha,3.08\\r\\n212,Shaidanu32,23,Male,159,\"Oathbreaker, Spellblade of Trials\",3.08\\r\\n213,Lirtastan49,29,Male,2,Verdict,2.48\\r\\n214,Iaralsuir44,23,Male,137,\"Aetherius, Boon of the Blessed\",3.39\\r\\n215,Ialallo29,15,Female,40,Second Chance,2.52\\r\\n216,Tyeudariasuir90,21,Male,136,Ghastly Adamantite Protector,3.58\\r\\n217,Cosadar58,38,Male,25,Hero Cane,4.35\\r\\n218,Aelastirin39,23,Male,76,Haunted Bronzed Bludgeon,3.15\\r\\n219,Aidai53,19,Male,57,\"Despair, Favor of Due Diligence\",4.6\\r\\n220,Jiskjask85,40,Male,46,Hopeless Ebon Dualblade,1.33\\r\\n221,Ealrion88,30,Male,175,Woeful Adamantite Claymore,4.48\\r\\n222,Chamjask73,22,Female,178,\"Oathbreaker, Last Hope of the Breaking Storm\",4.23\\r\\n223,Undirrala66,22,Male,142,Righteous Might,2.62\\r\\n224,Lisosia93,25,Male,157,\"Spada, Etcher of Hatred\",4.8\\r\\n225,Tyaenasti87,24,Female,154,Feral Katana,4.4\\r\\n226,Alim85,25,Male,54,Eternal Cleaver,2.5\\r\\n227,Haeladil46,18,Male,24,Warped Fetish,3.81\\r\\n228,Jiskirran77,20,Other / Non-Disclosed,80,Dreamsong,3.39\\r\\n229,Undosia27,17,Male,72,Winter\\'s Bite,3.77\\r\\n230,Peorith44,24,Male,102,Avenger,3.44\\r\\n231,Yarithsurgue62,26,Male,139,\"Mercy, Katana of Dismay\",4.94\\r\\n232,Sundadar27,31,Male,114,Yearning Mageblade,3.82\\r\\n233,Taeduenu92,19,Female,66,Victor Iron Spikes,4.4\\r\\n234,Chamimla85,16,Male,97,\"Swan Song, Gouger Of Terror\",2.5\\r\\n235,Rairin89,24,Male,163,Thunderfury Scimitar,3.45\\r\\n236,Aerithriaphos46,16,Male,107,\"Splitter, Foe Of Subtlety\",2.18\\r\\n237,Idairin51,20,Other / Non-Disclosed,16,Restored Bauble,3.55\\r\\n238,Lisista54,21,Male,42,The Decapitator,1.75\\r\\n239,Eodailis27,30,Male,19,\"Pursuit, Cudgel of Necromancy\",1.02\\r\\n240,Lirtastsda29,16,Male,82,Nirvana,4.9\\r\\n241,Undilsan50,22,Male,10,Sleepwalker,1.79\\r\\n242,Eodaisu60,16,Other / Non-Disclosed,39,\"Betrayal, Whisper of Grieving Widows\",3.94\\r\\n243,Quaranmol58,24,Male,83,Lifebender,3.33\\r\\n244,Lirtossa60,24,Male,37,\"Shadow Strike, Glory of Ending Hope\",3.16\\r\\n245,Lisim78,20,Male,85,Malificent Bag,1.75\\r\\n246,Lirtilsa71,24,Male,139,\"Mercy, Katana of Dismay\",4.94\\r\\n247,Iskadarya95,20,Male,82,Nirvana,4.9\\r\\n248,Isursuir31,44,Male,137,\"Aetherius, Boon of the Blessed\",3.39\\r\\n249,Sundirrala66,20,Male,16,Restored Bauble,3.55\\r\\n250,Saerallora71,23,Male,87,\"Deluge, Edge of the West\",4.43\\r\\n251,Iasur80,22,Male,1,Crucifer,1.99\\r\\n252,Tyaelo67,39,Male,92,Final Critic,4.88\\r\\n253,Aesty53,21,Male,28,\"Flux, Destroyer of Due Diligence\",1.06\\r\\n254,Quanunwen42,23,Female,94,Mourning Blade,3.49\\r\\n255,Sondastsda82,24,Male,71,Demise,1.61\\r\\n256,Chamirra53,23,Male,182,Toothpick,4.03\\r\\n257,Yasur35,26,Male,175,Woeful Adamantite Claymore,4.48\\r\\n258,Assehoan67,26,Male,149,\"Tranquility, Razor of Black Magic\",1.75\\r\\n259,Haellysu29,20,Male,72,Winter\\'s Bite,3.77\\r\\n260,Saida58,16,Male,70,Hope\\'s End,1.03\\r\\n261,Tyeosri53,24,Male,132,Persuasion,3.19\\r\\n262,Chamadar79,15,Male,172,Blade of the Grave,3.14\\r\\n263,Aeral43,24,Male,78,\"Glimmer, Ender of the Moon\",4.4\\r\\n264,Saesrideu94,35,Male,119,\"Stormbringer, Dark Blade of Ending Misery\",4.32\\r\\n265,Lirtirra37,25,Male,172,Blade of the Grave,3.14\\r\\n266,Siala43,30,Male,113,Solitude\\'s Reaver,4.07\\r\\n267,Tyidaim51,16,Female,41,Orbit,4.75\\r\\n268,Inasti31,17,Male,71,Demise,1.61\\r\\n269,Lassassast73,15,Male,18,\"Torchlight, Bond of Storms\",4.65\\r\\n270,Assassasta79,38,Male,85,Malificent Bag,1.75\\r\\n271,Heollyra92,22,Male,166,Thirsty Iron Reaver,3.07\\r\\n272,Anallorgue57,8,Male,133,Faith\\'s Scimitar,4.09\\r\\n273,Phyali88,15,Female,92,Final Critic,4.88\\r\\n274,Aerithllora36,29,Female,82,Nirvana,4.9\\r\\n275,Smaistysu35,30,Male,173,Stormfury Longsword,4.93\\r\\n276,Tyidaim51,16,Female,9,\"Thorn, Conqueror of the Corrupted\",2.73\\r\\n277,Ennalmol65,24,Male,92,Final Critic,4.88\\r\\n278,Iskichinya81,21,Female,167,\"Malice, Legacy of the Queen\",3.61\\r\\n279,Yarithrgue83,20,Male,163,Thunderfury Scimitar,3.45\\r\\n280,Yana46,20,Female,16,Restored Bauble,3.55\\r\\n281,Sondimla25,19,Male,68,\"Storm-Weaver, Slayer of Inception\",4.32\\r\\n282,Aidai61,21,Male,155,War-Forged Gold Deflector,1.01\\r\\n283,Wailin72,21,Female,9,\"Thorn, Conqueror of the Corrupted\",2.73\\r\\n284,Firan91,24,Male,128,\"Blazeguard, Reach of Eternity\",4.91\\r\\n285,Alaesu91,26,Male,163,Thunderfury Scimitar,3.45\\r\\n286,Aellynun67,25,Male,153,Mercenary Sabre,3.74\\r\\n287,Rilaera56,20,Male,5,Putrid Fan,4.08\\r\\n288,Eulaestira36,18,Male,156,Soul-Forged Steel Shortsword,1.77\\r\\n289,Marim28,25,Female,83,Lifebender,3.33\\r\\n290,Idastidru52,24,Male,147,\"Hellreaver, Heirloom of Inception\",4.93\\r\\n291,Idairin51,20,Other / Non-Disclosed,35,Heartless Bone Dualblade,3.45\\r\\n292,Lisasi93,13,Male,70,Hope\\'s End,1.03\\r\\n293,Lisopela58,22,Male,117,\"Heartstriker, Legacy of the Light\",1.79\\r\\n294,Ilirrasda54,37,Male,171,Scalpel,1.79\\r\\n295,Alaephos75,23,Male,52,Hatred,4.84\\r\\n296,Syalollorap93,22,Female,65,Conqueror Adamantite Mace,4.24\\r\\n297,Heosurnuru52,16,Female,169,\"Interrogator, Blood Blade of the Queen\",2.18\\r\\n298,Minduli80,25,Male,110,Suspension,1.44\\r\\n299,Lirtossa84,11,Male,164,Exiled Doomblade,1.63\\r\\n300,Chanastya70,22,Male,136,Ghastly Adamantite Protector,3.58\\r\\n301,Frichadaran88,25,Male,106,Crying Steel Sickle,3.41\\r\\n302,Siallylis44,20,Male,4,Bloodlord\\'s Fetish,1.7\\r\\n303,Aeri84,24,Male,71,Demise,1.61\\r\\n304,Iasursti71,24,Male,181,Reaper\\'s Toll,1.66\\r\\n305,Siallylis44,20,Male,179,\"Wolf, Promise of the Moonwalker\",4.48\\r\\n306,Mindilsa34,24,Female,38,\"The Void, Vengeance of Dark Magic\",2.37\\r\\n307,Chamastya76,34,Male,53,Vengeance Cleaver,2.05\\r\\n308,Undirra73,34,Male,98,\"Deadline, Voice Of Subtlety\",2.89\\r\\n309,Aestysu37,25,Male,170,Shadowsteel,3.97\\r\\n310,Chadadarla74,30,Male,117,\"Heartstriker, Legacy of the Light\",1.79\\r\\n311,Anallorgue57,8,Male,71,Demise,1.61\\r\\n312,Strithenu87,20,Male,147,\"Hellreaver, Heirloom of Inception\",4.93\\r\\n313,Iasrira89,23,Male,182,Toothpick,4.03\\r\\n314,Ialidru40,24,Male,37,\"Shadow Strike, Glory of Ending Hope\",3.16\\r\\n315,Tyisur83,23,Male,107,\"Splitter, Foe Of Subtlety\",2.18\\r\\n316,Tyalaesu89,25,Male,15,Soul Infused Crystal,2.96\\r\\n317,Tyidainu31,18,Female,3,Phantomlight,2.49\\r\\n318,Iskadarya95,20,Male,91,Celeste,4.17\\r\\n319,Rarallo90,33,Male,144,Blood Infused Guardian,1.94\\r\\n320,Lirtilsa72,24,Male,77,\"Piety, Guardian of Riddles\",4\\r\\n321,Undjaskla97,33,Male,118,\"Ghost Reaver, Longsword of Magic\",2.17\\r\\n322,Saedaiphos46,18,Male,37,\"Shadow Strike, Glory of Ending Hope\",3.16\\r\\n323,Tyisur83,23,Male,131,Fury,1.44\\r\\n324,Aerithnucal56,15,Male,154,Feral Katana,4.4\\r\\n325,Hiasri33,23,Male,54,Eternal Cleaver,2.5\\r\\n326,Lisossa46,25,Male,54,Eternal Cleaver,2.5\\r\\n327,Layjask75,22,Female,17,\"Lazarus, Terror of the Earth\",1.7\\r\\n328,Lisista63,17,Male,152,Darkheart,1.74\\r\\n329,Ceoral34,20,Male,145,Fiery Glass Crusader,4.58\\r\\n330,Hilaerin92,23,Male,167,\"Malice, Legacy of the Queen\",3.61\\r\\n331,Chadilsasta32,23,Male,7,\"Thorn, Satchel of Dark Souls\",1.33\\r\\n332,Undassa89,25,Male,161,Devine,1.76\\r\\n333,Iduenu77,17,Female,114,Yearning Mageblade,3.82\\r\\n334,Lisosia66,21,Male,11,Brimstone,3.65\\r\\n335,Undimsya85,33,Male,67,\"Celeste, Incarnation of the Corrupted\",3.46\\r\\n336,Phaedue89,22,Female,45,Glinting Glass Edge,3.85\\r\\n337,Yadacal26,15,Male,17,\"Lazarus, Terror of the Earth\",1.7\\r\\n338,Lisossa25,22,Male,13,Serenity,1.41\\r\\n339,Ilmol66,8,Female,124,Venom Claymore,1.29\\r\\n340,Yastyriaphos75,22,Male,41,Orbit,4.75\\r\\n341,Hiasurria41,41,Male,71,Demise,1.61\\r\\n342,Palatyon26,21,Male,38,\"The Void, Vengeance of Dark Magic\",2.37\\r\\n343,Chadilsasta32,23,Male,49,\"The Oculus, Token of Lost Worlds\",2.96\\r\\n344,Qilalista41,23,Male,19,\"Pursuit, Cudgel of Necromancy\",1.02\\r\\n345,Hada39,19,Male,2,Verdict,2.48\\r\\n346,Saedaiphos46,18,Male,121,Massacre,1.6\\r\\n347,Chamilsala65,23,Female,11,Brimstone,3.65\\r\\n348,Eulaestira36,18,Male,38,\"The Void, Vengeance of Dark Magic\",2.37\\r\\n349,Sundirrala66,20,Male,59,\"Lightning, Etcher of the King\",4.23\\r\\n350,Rairith81,15,Other / Non-Disclosed,34,Retribution Axe,2.22\\r\\n351,Assistasda42,21,Male,121,Massacre,1.6\\r\\n352,Ilarin91,22,Male,79,\"Alpha, Oath of Zeal\",4.05\\r\\n353,Ryanara76,25,Male,174,Primitive Blade,3.47\\r\\n354,Undista85,21,Male,163,Thunderfury Scimitar,3.45\\r\\n355,Tyeoralru41,15,Male,140,Striker,2.94\\r\\n356,Pheosrinudeu70,20,Male,138,\"Peacekeeper, Wit of Dark Magic\",4.74\\r\\n357,Heuli25,23,Female,37,\"Shadow Strike, Glory of Ending Hope\",3.16\\r\\n358,Pheutherin27,24,Male,74,Yearning Crusher,4.18\\r\\n359,Chadirra90,18,Male,73,Ritual Mace,2.05\\r\\n360,Ali84,29,Male,14,Possessed Core,2.61\\r\\n361,Frichjaskan98,25,Male,19,\"Pursuit, Cudgel of Necromancy\",1.02\\r\\n362,Malil90,22,Male,107,\"Splitter, Foe Of Subtlety\",2.18\\r\\n363,Aina42,25,Male,45,Glinting Glass Edge,3.85\\r\\n364,Yarithllodeu72,22,Male,88,\"Emberling, Defender of Delusions\",3.75\\r\\n365,Tyaedainu44,25,Male,43,Foul Edge,3.54\\r\\n366,Hirirap39,22,Male,31,Trickster,1.55\\r\\n367,Eodailis27,30,Male,138,\"Peacekeeper, Wit of Dark Magic\",4.74\\r\\n368,Ethron58,20,Male,3,Phantomlight,2.49\\r\\n369,Heuli25,23,Female,137,\"Aetherius, Boon of the Blessed\",3.39\\r\\n370,Idai61,19,Male,45,Glinting Glass Edge,3.85\\r\\n371,Eusurdeu49,23,Male,155,War-Forged Gold Deflector,1.01\\r\\n372,Saistyphos30,35,Male,64,Fusion Pummel,4.82\\r\\n373,Aina42,25,Male,103,Singed Scalpel,4.35\\r\\n374,Saisrilis27,16,Male,85,Malificent Bag,1.75\\r\\n375,Hallysucal81,25,Male,181,Reaper\\'s Toll,1.66\\r\\n376,Ilimya66,33,Male,59,\"Lightning, Etcher of the King\",4.23\\r\\n377,Raysistast71,20,Male,11,Brimstone,3.65\\r\\n378,Haedairiadru51,23,Male,96,Blood-Forged Skeletal Spine,3.09\\r\\n379,Tyananurgue44,18,Male,100,Blindscythe,3.27\\r\\n380,Risty84,25,Male,50,Dawn,4.6\\r\\n381,Aerillorin70,16,Male,83,Lifebender,3.33\\r\\n382,Phistyn52,24,Male,164,Exiled Doomblade,1.63\\r\\n383,Yalo85,34,Male,11,Brimstone,3.65\\r\\n384,Chamirrasya33,21,Female,110,Suspension,1.44\\r\\n385,Hiral75,22,Male,29,\"Chaos, Ender of the End\",1.98\\r\\n386,Isursti83,21,Male,129,\"Fate, Vengeance of Eternal Justice\",1.54\\r\\n387,Bartassaya73,26,Male,39,\"Betrayal, Whisper of Grieving Widows\",3.94\\r\\n388,Aeda94,17,Male,128,\"Blazeguard, Reach of Eternity\",4.91\\r\\n389,Quinarap53,15,Male,157,\"Spada, Etcher of Hatred\",4.8\\r\\n390,Asur53,26,Male,75,Brutality Ivory Warmace,2.42\\r\\n391,Alarap40,18,Male,20,Netherbane,3.27\\r\\n392,Sida61,20,Female,181,Reaper\\'s Toll,1.66\\r\\n393,Hiarideu73,20,Male,54,Eternal Cleaver,2.5\\r\\n394,Lassassasda30,12,Male,60,Wolf,3.54\\r\\n395,Ennoncil86,17,Male,152,Darkheart,1.74\\r\\n396,Siralsudeu54,20,Male,131,Fury,1.44\\r\\n397,Eusri26,25,Male,100,Blindscythe,3.27\\r\\n398,Ardcil81,34,Male,96,Blood-Forged Skeletal Spine,3.09\\r\\n399,Marilsasya33,19,Male,143,Frenzied Scimitar,1.56\\r\\n400,Ilarin91,22,Male,72,Winter\\'s Bite,3.77\\r\\n401,Lirtim36,15,Other / Non-Disclosed,46,Hopeless Ebon Dualblade,1.33\\r\\n402,Heunadil74,23,Female,129,\"Fate, Vengeance of Eternal Justice\",1.54\\r\\n403,Frichadar89,24,Male,162,Abyssal Shard,2.67\\r\\n404,Chamirrasya33,21,Female,71,Demise,1.61\\r\\n405,Aesurstilis64,25,Male,70,Hope\\'s End,1.03\\r\\n406,Idaidil28,15,Male,100,Blindscythe,3.27\\r\\n407,Idai61,19,Male,131,Fury,1.44\\r\\n408,Raesty92,12,Male,53,Vengeance Cleaver,2.05\\r\\n409,Lisotesta51,15,Female,144,Blood Infused Guardian,1.94\\r\\n410,Strithenu87,20,Male,99,\"Expiration, Warscythe Of Lost Worlds\",1.71\\r\\n411,Lisico81,10,Male,92,Final Critic,4.19\\r\\n412,Lisiriya82,32,Male,86,Stormfury Lantern,2.27\\r\\n413,Siana77,12,Male,93,Apocalyptic Battlescythe,1.97\\r\\n414,Marokian45,23,Male,108,\"Extraction, Quickblade Of Trembling Hands\",3.53\\r\\n415,Sausosia74,22,Male,120,Agatha,3.08\\r\\n416,Aestysu37,25,Male,13,Serenity,1.41\\r\\n417,Pheodaisun84,30,Male,98,\"Deadline, Voice Of Subtlety\",2.89\\r\\n418,Marim28,25,Female,125,Whistling Mithril Warblade,1\\r\\n419,Iaralrgue74,33,Male,171,Scalpel,1.79\\r\\n420,Assesi91,23,Male,129,\"Fate, Vengeance of Eternal Justice\",1.54\\r\\n421,Yadaphos40,30,Male,26,Unholy Wand,1.12\\r\\n422,Eusri70,24,Female,154,Feral Katana,4.4\\r\\n423,Aisurria69,24,Male,10,Sleepwalker,1.79\\r\\n424,Iarilis73,10,Male,149,\"Tranquility, Razor of Black Magic\",1.75\\r\\n425,Raisty38,15,Male,20,Netherbane,3.27\\r\\n426,Ilista82,23,Male,32,Orenmir,1.14\\r\\n427,Leyirra83,24,Female,170,Shadowsteel,3.97\\r\\n428,Aelly27,24,Male,14,Possessed Core,2.61\\r\\n429,Aiduesu86,22,Female,179,\"Wolf, Promise of the Moonwalker\",4.48\\r\\n430,Frichynde86,15,Male,164,Exiled Doomblade,1.63\\r\\n431,Aelollo59,33,Male,172,Blade of the Grave,3.14\\r\\n432,Hisridru55,18,Male,120,Agatha,3.08\\r\\n433,Chamossa77,21,Male,156,Soul-Forged Steel Shortsword,1.77\\r\\n434,Irillo49,20,Male,84,Arcane Gem,3.79\\r\\n435,Lirtastsya71,21,Male,93,Apocalyptic Battlescythe,1.97\\r\\n436,Umolrian85,32,Female,80,Dreamsong,3.39\\r\\n437,Frichosiala98,24,Female,43,Foul Edge,3.54\\r\\n438,Qilunan34,23,Male,145,Fiery Glass Crusader,4.58\\r\\n439,Quarrion42,22,Male,59,\"Lightning, Etcher of the King\",4.23\\r\\n440,Aisurdru79,29,Female,75,Brutality Ivory Warmace,2.42\\r\\n441,Hiaral50,15,Male,156,Soul-Forged Steel Shortsword,1.77\\r\\n442,Zontibe81,21,Male,84,Arcane Gem,3.79\\r\\n443,Iarallo65,26,Male,149,\"Tranquility, Razor of Black Magic\",1.75\\r\\n444,Sondassasya91,21,Female,24,Warped Fetish,3.81\\r\\n445,Phaelap26,25,Female,150,Deathraze,2.85\\r\\n446,Chanossast57,7,Female,119,\"Stormbringer, Dark Blade of Ending Misery\",4.32\\r\\n447,Yalae81,22,Male,120,Agatha,3.08\\r\\n448,Chanjask65,18,Female,68,\"Storm-Weaver, Slayer of Inception\",4.32\\r\\n449,Ethralista69,13,Male,34,Retribution Axe,2.22\\r\\n450,Sondistanya61,18,Female,35,Heartless Bone Dualblade,3.45\\r\\n451,Eudanu32,15,Female,122,Unending Tyranny,2.85\\r\\n452,Marilsasya33,19,Male,32,Orenmir,1.14\\r\\n453,Euthe35,24,Male,70,Hope\\'s End,1.03\\r\\n454,Lassimla92,25,Male,1,Crucifer,3.26\\r\\n455,Lisossala30,20,Male,103,Singed Scalpel,4.35\\r\\n456,Phaena87,20,Male,124,Venom Claymore,1.29\\r\\n457,Eulae84,25,Male,61,Ragnarok,3.87\\r\\n458,Chamadarnya73,29,Male,166,Thirsty Iron Reaver,3.07\\r\\n459,Eolan54,30,Male,129,\"Fate, Vengeance of Eternal Justice\",1.54\\r\\n460,Assistasda90,25,Male,103,Singed Scalpel,4.35\\r\\n461,Ennrian78,24,Male,168,\"Sun Strike, Jaws of Twisted Visions\",1.48\\r\\n462,Undirrasta89,20,Male,144,Blood Infused Guardian,1.94\\r\\n463,Frichadaran88,25,Male,48,\"Rage, Legacy of the Lone Victor\",2.48\\r\\n464,Rianistast50,22,Male,178,\"Oathbreaker, Last Hope of the Breaking Storm\",4.23\\r\\n465,Sondastsda82,24,Male,4,Bloodlord\\'s Fetish,1.7\\r\\n466,Undare39,23,Male,112,Worldbreaker,2.6\\r\\n467,Adairialis76,16,Male,123,Twilight\\'s Carver,2.28\\r\\n468,Aesur96,23,Male,30,Stormcaller,2.21\\r\\n469,Tyialisudeu65,24,Male,148,\"Warmonger, Gift of Suffering\\'s End\",4.03\\r\\n470,Arirgue63,29,Male,4,Bloodlord\\'s Fetish,1.7\\r\\n471,Sundadarla27,23,Male,122,Unending Tyranny,2.85\\r\\n472,Lisopela58,22,Male,18,\"Torchlight, Bond of Storms\",4.65\\r\\n473,Eyircil84,21,Male,25,Hero Cane,4.35\\r\\n474,Ina92,31,Male,145,Fiery Glass Crusader,4.58\\r\\n475,Lirtistanya48,24,Male,6,Rusty Skull,3.7\\r\\n476,Marassa62,21,Male,103,Singed Scalpel,4.35\\r\\n477,Mindossa76,41,Male,173,Stormfury Longsword,4.93\\r\\n478,Sondim68,22,Female,35,Heartless Bone Dualblade,3.45\\r\\n479,Chanjaskan89,21,Male,60,Wolf,3.54\\r\\n480,Salilis27,40,Male,59,\"Lightning, Etcher of the King\",4.23\\r\\n481,Sondossa69,7,Male,179,\"Wolf, Promise of the Moonwalker\",4.48\\r\\n482,Sundjask71,32,Female,77,\"Piety, Guardian of Riddles\",4\\r\\n483,Saistyphos30,35,Male,108,\"Extraction, Quickblade Of Trembling Hands\",3.53\\r\\n484,Chanosian48,35,Other / Non-Disclosed,39,\"Betrayal, Whisper of Grieving Widows\",3.94\\r\\n485,Errian63,26,Female,94,Mourning Blade,3.49\\r\\n486,Eurithphos97,9,Male,53,Vengeance Cleaver,2.05\\r\\n487,Raillydeu47,14,Male,93,Apocalyptic Battlescythe,1.97\\r\\n488,Malon70,23,Male,44,Bonecarvin Battle Axe,2.38\\r\\n489,Jiskimsda56,28,Male,32,Orenmir,1.14\\r\\n490,Idastidru52,24,Male,148,\"Warmonger, Gift of Suffering\\'s End\",4.03\\r\\n491,Marughi89,22,Male,22,Amnesia,2.18\\r\\n492,Ingatcil75,23,Male,143,Frenzied Scimitar,1.56\\r\\n493,Chanirrasta87,14,Male,139,\"Mercy, Katana of Dismay\",4.94\\r\\n494,Alaesu77,30,Male,3,Phantomlight,2.49\\r\\n495,Ermol76,24,Male,97,\"Swan Song, Gouger Of Terror\",2.5\\r\\n496,Tyeuduen32,23,Male,79,\"Alpha, Oath of Zeal\",4.05\\r\\n497,Yadacal26,15,Male,52,Hatred,4.84\\r\\n498,Firon67,35,Male,108,\"Extraction, Quickblade Of Trembling Hands\",3.53\\r\\n499,Iadueria43,24,Male,99,\"Expiration, Warscythe Of Lost Worlds\",1.71\\r\\n500,Pheulidil31,20,Male,100,Blindscythe,3.27\\r\\n501,Eodairu79,32,Male,151,Severance,3.4\\r\\n502,Frichocesta66,20,Male,16,Restored Bauble,3.55\\r\\n503,Iaralsuir44,23,Male,59,\"Lightning, Etcher of the King\",4.23\\r\\n504,Chamilsala65,23,Female,82,Nirvana,4.9\\r\\n505,Thourdirra92,19,Male,110,Suspension,1.44\\r\\n506,Chadista79,30,Male,25,Hero Cane,4.35\\r\\n507,Chanastnya43,22,Male,29,\"Chaos, Ender of the End\",1.98\\r\\n508,Iskim96,16,Male,7,\"Thorn, Satchel of Dark Souls\",1.33\\r\\n509,Inguron55,23,Male,117,\"Heartstriker, Legacy of the Light\",1.79\\r\\n510,Eulolis41,22,Male,162,Abyssal Shard,2.67\\r\\n511,Lassilsala30,21,Male,64,Fusion Pummel,4.82\\r\\n512,Sastydeu50,35,Male,169,\"Interrogator, Blood Blade of the Queen\",2.18\\r\\n513,Ilaesudil92,25,Male,25,Hero Cane,4.35\\r\\n514,Yasur85,21,Male,21,Souleater,1.1\\r\\n515,Haillyrgue51,7,Male,40,Second Chance,2.52\\r\\n516,Aidain51,39,Female,35,Heartless Bone Dualblade,3.45\\r\\n517,Aerithnuphos61,39,Male,128,\"Blazeguard, Reach of Eternity\",4.91\\r\\n518,Yalostiphos68,29,Male,160,Azurewrath,4.4\\r\\n519,Eusri70,24,Female,140,Striker,2.94\\r\\n520,Chamjask73,22,Female,109,\"Downfall, Scalpel Of The Emperor\",4.76\\r\\n521,Phistym51,37,Male,50,Dawn,4.6\\r\\n522,Meosridil82,18,Male,82,Nirvana,4.9\\r\\n523,Aillyriadru65,24,Male,21,Souleater,1.1\\r\\n524,Sally64,25,Female,46,Hopeless Ebon Dualblade,1.33\\r\\n525,Lirtimst73,24,Male,126,Exiled Mithril Longsword,2\\r\\n526,Ilosia37,23,Male,133,Faith\\'s Scimitar,4.09\\r\\n527,Lisim51,24,Male,102,Avenger,3.44\\r\\n528,Isurria36,22,Female,19,\"Pursuit, Cudgel of Necromancy\",1.02\\r\\n529,Silaera56,21,Male,142,Righteous Might,2.62\\r\\n530,Leetirraya83,24,Male,5,Putrid Fan,4.08\\r\\n531,Lirtirra81,12,Male,143,Frenzied Scimitar,1.56\\r\\n532,Eryon48,16,Male,21,Souleater,1.1\\r\\n533,Hada39,19,Male,48,\"Rage, Legacy of the Lone Victor\",2.48\\r\\n534,Iana95,10,Male,146,Warped Iron Scimitar,3.1\\r\\n535,Siralsudeu54,20,Male,155,War-Forged Gold Deflector,1.01\\r\\n536,Siallylis44,20,Male,92,Final Critic,4.19\\r\\n537,Sondassan80,25,Male,112,Worldbreaker,2.6\\r\\n538,Chanadar44,25,Male,132,Persuasion,3.19\\r\\n539,Eosurdru76,11,Male,117,\"Heartstriker, Legacy of the Light\",1.79\\r\\n540,Shidai42,29,Male,7,\"Thorn, Satchel of Dark Souls\",1.33\\r\\n541,Aesri53,31,Male,161,Devine,1.76\\r\\n542,Syally44,17,Male,22,Amnesia,2.18\\r\\n543,Idastidru52,24,Male,121,Massacre,1.6\\r\\n544,Ardcil81,34,Male,3,Phantomlight,2.49\\r\\n545,Jiskadarst60,16,Male,66,Victor Iron Spikes,4.4\\r\\n546,Sondadar26,9,Male,159,\"Oathbreaker, Spellblade of Trials\",3.08\\r\\n547,Malarrian73,18,Male,135,Warped Diamond Crusader,1.4\\r\\n548,Yathecal82,20,Female,75,Brutality Ivory Warmace,2.42\\r\\n549,Maluncil97,25,Other / Non-Disclosed,146,Warped Iron Scimitar,3.1\\r\\n550,Ilunyon70,20,Male,60,Wolf,3.54\\r\\n551,Iri67,20,Male,160,Azurewrath,4.4\\r\\n552,Hiaral50,15,Male,155,War-Forged Gold Deflector,1.01\\r\\n553,Yadam35,28,Male,2,Verdict,2.48\\r\\n554,Dyally87,22,Male,63,Stormfury Mace,4.99\\r\\n555,Pheosurllorin41,23,Female,7,\"Thorn, Satchel of Dark Souls\",1.33\\r\\n556,Frichocesta66,20,Male,64,Fusion Pummel,4.82\\r\\n557,Frichaya88,42,Male,8,\"Purgatory, Gem of Regret\",3.93\\r\\n558,Lassadarsda57,25,Female,108,\"Extraction, Quickblade Of Trembling Hands\",3.53\\r\\n559,Iasrira89,23,Male,34,Retribution Axe,2.22\\r\\n560,Zontibe81,21,Male,2,Verdict,2.48\\r\\n561,Chanastnya43,22,Male,35,Heartless Bone Dualblade,3.45\\r\\n562,Marynde90,30,Male,83,Lifebender,3.33\\r\\n563,Isri34,38,Male,142,Righteous Might,2.62\\r\\n564,Chamjask73,22,Female,52,Hatred,4.84\\r\\n565,Assastnya25,20,Male,179,\"Wolf, Promise of the Moonwalker\",4.48\\r\\n566,Ardonmol96,20,Male,31,Trickster,1.55\\r\\n567,Lassirrasda85,20,Male,102,Avenger,3.44\\r\\n568,Syally44,17,Male,123,Twilight\\'s Carver,2.28\\r\\n569,Baelollodeu94,20,Female,87,\"Deluge, Edge of the West\",4.43\\r\\n570,Chadossa56,20,Male,69,\"Frenzy, Defender of the Harvest\",1.98\\r\\n571,Poshilsa82,16,Male,165,Bone Crushing Silver Skewer,4.86\\r\\n572,Yoishirrala98,17,Female,145,Fiery Glass Crusader,4.58\\r\\n573,Sundista37,26,Male,156,Soul-Forged Steel Shortsword,1.77\\r\\n574,Undare39,23,Male,131,Fury,1.44\\r\\n575,Sondadar26,9,Male,137,\"Aetherius, Boon of the Blessed\",3.39\\r\\n576,Ilassa51,20,Male,34,Retribution Axe,2.22\\r\\n577,Filurarn35,19,Male,128,\"Blazeguard, Reach of Eternity\",4.91\\r\\n578,Aerithllora36,29,Female,153,Mercenary Sabre,3.74\\r\\n579,Marilsa69,25,Female,12,Dawne,1.02\\r\\n580,Tyida79,24,Male,178,\"Oathbreaker, Last Hope of the Breaking Storm\",4.23\\r\\n581,Phaestycal84,23,Male,117,\"Heartstriker, Legacy of the Light\",1.79\\r\\n582,Irilis75,20,Male,19,\"Pursuit, Cudgel of Necromancy\",1.02\\r\\n583,Aeralstical35,20,Male,49,\"The Oculus, Token of Lost Worlds\",2.96\\r\\n584,Aelin32,20,Male,115,Spectral Diamond Doomblade,2.04\\r\\n585,Chanirrala39,22,Male,85,Malificent Bag,1.75\\r\\n586,Chanirra79,23,Female,155,War-Forged Gold Deflector,1.01\\r\\n587,Assirra56,22,Male,132,Persuasion,3.19\\r\\n588,Lassadarsda57,25,Female,15,Soul Infused Crystal,2.96\\r\\n589,Seolollo93,30,Male,106,Crying Steel Sickle,3.41\\r\\n590,Iathem87,20,Male,132,Persuasion,3.19\\r\\n591,Iasurriacal29,20,Male,113,Solitude\\'s Reaver,4.07\\r\\n592,Lisast98,22,Male,170,Shadowsteel,3.97\\r\\n593,Lassimla92,25,Male,128,\"Blazeguard, Reach of Eternity\",4.91\\r\\n594,Filrion59,27,Male,89,\"Blazefury, Protector of Delusions\",4.64\\r\\n595,Yathedeu43,22,Male,55,Vindictive Glass Edge,2.27\\r\\n596,Seudaillorap38,27,Male,146,Warped Iron Scimitar,3.1\\r\\n597,Quinarap53,15,Male,86,Stormfury Lantern,2.27\\r\\n598,Halaecal66,22,Male,111,Misery\\'s End,4.89\\r\\n599,Hiaral50,15,Male,13,Serenity,1.41\\r\\n600,Iskosian40,16,Male,166,Thirsty Iron Reaver,3.07\\r\\n601,Ilastilis78,11,Male,93,Apocalyptic Battlescythe,1.97\\r\\n602,Seosrim97,20,Male,65,Conqueror Adamantite Mace,4.24\\r\\n603,Lisosia93,25,Male,132,Persuasion,3.19\\r\\n604,Lisim51,24,Male,34,Retribution Axe,2.22\\r\\n605,Farrian71,18,Male,159,\"Oathbreaker, Spellblade of Trials\",3.08\\r\\n606,Nitherian58,28,Male,123,Twilight\\'s Carver,2.28\\r\\n607,Rithe53,15,Female,80,Dreamsong,3.39\\r\\n608,Leyirra83,24,Female,132,Persuasion,3.33\\r\\n609,Lisosia93,25,Male,40,Second Chance,2.52\\r\\n610,Frichossala54,7,Male,159,\"Oathbreaker, Spellblade of Trials\",3.08\\r\\n611,Chamjaskya75,16,Male,176,Relentless Iron Skewer,2.84\\r\\n612,Silaera56,21,Male,52,Hatred,4.84\\r\\n613,Quanrion96,21,Female,159,\"Oathbreaker, Spellblade of Trials\",3.08\\r\\n614,Chadadarla74,30,Male,65,Conqueror Adamantite Mace,4.24\\r\\n615,Sida61,20,Female,72,Winter\\'s Bite,3.77\\r\\n616,Tyaelaelis94,20,Male,78,\"Glimmer, Ender of the Moon\",4.4\\r\\n617,Chamimla85,16,Male,40,Second Chance,2.52\\r\\n618,Aisurdru79,29,Female,183,Dragon\\'s Greatsword,1.09\\r\\n619,Quanenrian83,15,Male,55,Vindictive Glass Edge,2.27\\r\\n620,Undosian34,21,Male,109,\"Downfall, Scalpel Of The Emperor\",4.76\\r\\n621,Seosrim97,20,Male,26,Unholy Wand,1.12\\r\\n622,Chanirra64,25,Male,129,\"Fate, Vengeance of Eternal Justice\",1.54\\r\\n623,Iral74,21,Male,114,Yearning Mageblade,3.82\\r\\n624,Marynde90,30,Male,29,\"Chaos, Ender of the End\",1.98\\r\\n625,Yadaisuir65,20,Male,133,Faith\\'s Scimitar,4.09\\r\\n626,Syathecal44,16,Male,75,Brutality Ivory Warmace,2.42\\r\\n627,Arin32,25,Male,178,\"Oathbreaker, Last Hope of the Breaking Storm\",4.23\\r\\n628,Hada39,19,Male,167,\"Malice, Legacy of the Queen\",3.61\\r\\n629,Maluncil97,25,Other / Non-Disclosed,107,\"Splitter, Foe Of Subtlety\",2.18\\r\\n630,Aelaria33,23,Male,171,Scalpel,1.79\\r\\n631,Assassa81,27,Male,137,\"Aetherius, Boon of the Blessed\",3.39\\r\\n632,Filrion83,17,Male,160,Azurewrath,4.4\\r\\n633,Chanastnya43,22,Male,80,Dreamsong,3.39\\r\\n634,Eoral49,16,Male,103,Singed Scalpel,4.35\\r\\n635,Ali84,29,Male,4,Bloodlord\\'s Fetish,1.7\\r\\n636,Chanirrala39,22,Male,78,\"Glimmer, Ender of the Moon\",4.4\\r\\n637,Airi27,24,Other / Non-Disclosed,163,Thunderfury Scimitar,3.45\\r\\n638,Eurisuru25,24,Male,22,Amnesia,2.18\\r\\n639,Liawista80,27,Male,86,Stormfury Lantern,2.27\\r\\n640,Sausosia74,22,Male,108,\"Extraction, Quickblade Of Trembling Hands\",3.53\\r\\n641,Lisirra58,20,Female,49,\"The Oculus, Token of Lost Worlds\",2.96\\r\\n642,Chamadarsda63,23,Male,127,\"Heartseeker, Reaver of Souls\",3.92\\r\\n643,Haestyphos66,21,Male,93,Apocalyptic Battlescythe,1.97\\r\\n644,Bartassaya73,26,Male,22,Amnesia,2.18\\r\\n645,Phaedasurap84,17,Male,114,Yearning Mageblade,3.82\\r\\n646,Mindimnya67,23,Male,116,Renewed Skeletal Katana,4.18\\r\\n647,Chadjask85,24,Male,61,Ragnarok,3.87\\r\\n648,Eustyria89,39,Male,150,Deathraze,2.85\\r\\n649,Iskim66,15,Male,67,\"Celeste, Incarnation of the Corrupted\",3.46\\r\\n650,Smaistysu35,30,Male,161,Devine,1.76\\r\\n651,Lirtilsa72,24,Male,132,Persuasion,3.33\\r\\n652,Pheosrinudeu70,20,Male,75,Brutality Ivory Warmace,2.42\\r\\n653,Chamast86,32,Female,53,Vengeance Cleaver,2.05\\r\\n654,Tyialisudeu65,24,Male,19,\"Pursuit, Cudgel of Necromancy\",1.02\\r\\n655,Lirtassan78,15,Male,20,Netherbane,3.27\\r\\n656,Ethrasyon38,26,Male,115,Spectral Diamond Doomblade,2.04\\r\\n657,Silaera56,21,Male,19,\"Pursuit, Cudgel of Necromancy\",1.02\\r\\n658,Quilassa66,7,Female,178,\"Oathbreaker, Last Hope of the Breaking Storm\",4.23\\r\\n659,Lisassasda39,36,Male,140,Striker,2.94\\r\\n660,Isri34,38,Male,103,Singed Scalpel,4.35\\r\\n661,Strithenu87,20,Male,60,Wolf,3.54\\r\\n662,Mindilsa60,21,Male,0,Splinter,1.28\\r\\n663,Lalossa38,25,Male,72,Winter\\'s Bite,3.77\\r\\n664,Chamistast30,31,Male,47,\"Alpha, Reach of Ending Hope\",3.58\\r\\n665,Hariphos58,17,Male,73,Ritual Mace,2.05\\r\\n666,Assilsan72,20,Female,82,Nirvana,4.9\\r\\n667,Inasuir29,40,Female,66,Victor Iron Spikes,4.4\\r\\n668,Chanilsasda38,15,Male,40,Second Chance,2.52\\r\\n669,Mindesi74,22,Male,45,Glinting Glass Edge,3.85\\r\\n670,Aiduecal76,20,Male,120,Agatha,3.08\\r\\n671,Caesrinusuir82,30,Male,152,Darkheart,1.74\\r\\n672,Ililsan66,9,Male,122,Unending Tyranny,2.85\\r\\n673,Idacal95,30,Male,130,Alpha,2.07\\r\\n674,Aeral68,43,Male,77,\"Piety, Guardian of Riddles\",4\\r\\n675,Lirtastsda29,16,Male,144,Blood Infused Guardian,1.94\\r\\n676,Idastidru52,24,Male,111,Misery\\'s End,4.89\\r\\n677,Tyarithn67,27,Male,32,Orenmir,1.14\\r\\n678,Rarallo90,33,Male,108,\"Extraction, Quickblade Of Trembling Hands\",3.53\\r\\n679,Iarilis73,10,Male,153,Mercenary Sabre,3.74\\r\\n680,Asty82,25,Male,96,Blood-Forged Skeletal Spine,3.09\\r\\n681,Yalaeria91,33,Male,28,\"Flux, Destroyer of Due Diligence\",1.06\\r\\n682,Lirtossa60,24,Male,135,Warped Diamond Crusader,1.4\\r\\n683,Ialallo29,15,Female,145,Fiery Glass Crusader,4.58\\r\\n684,Phaestycal84,23,Male,169,\"Interrogator, Blood Blade of the Queen\",2.18\\r\\n685,Halaecal66,22,Male,34,Retribution Axe,2.22\\r\\n686,Chadjask77,8,Male,147,\"Hellreaver, Heirloom of Inception\",4.93\\r\\n687,Ealiril69,35,Male,78,\"Glimmer, Ender of the Moon\",4.4\\r\\n688,Saistyphos30,35,Male,29,\"Chaos, Ender of the End\",1.98\\r\\n689,Undjaskla97,33,Male,76,Haunted Bronzed Bludgeon,3.15\\r\\n690,Idaidil28,15,Male,68,\"Storm-Weaver, Slayer of Inception\",4.32\\r\\n691,Lirtistanya48,24,Male,112,Worldbreaker,2.6\\r\\n692,Quaecjask96,9,Male,78,\"Glimmer, Ender of the Moon\",4.4\\r\\n693,Firatan58,23,Male,88,\"Emberling, Defender of Delusions\",3.75\\r\\n694,Mindesi74,22,Male,164,Exiled Doomblade,1.63\\r\\n695,Lamil79,38,Male,111,Misery\\'s End,4.89\\r\\n696,Yarolwen77,30,Male,87,\"Deluge, Edge of the West\",4.43\\r\\n697,Tyaelistidru84,19,Female,1,Crucifer,3.26\\r\\n698,Yarithrin84,30,Female,58,\"Freak\\'s Bite, Favor of Holy Might\",4.14\\r\\n699,Tyaelly53,17,Female,130,Alpha,2.07\\r\\n700,Chanosia60,31,Male,90,Betrayer,2.94\\r\\n701,Phiristi62,25,Male,10,Sleepwalker,1.79\\r\\n702,Ililsasya43,19,Male,12,Dawne,1.02\\r\\n703,Aithelis62,21,Male,160,Azurewrath,4.4\\r\\n704,Undotesta33,18,Male,95,Singed Onyx Warscythe,4.74\\r\\n705,Aelidru27,22,Male,183,Dragon\\'s Greatsword,1.09\\r\\n706,Chanossanya44,20,Male,178,\"Oathbreaker, Last Hope of the Breaking Storm\",4.23\\r\\n707,Maradarnya40,20,Male,38,\"The Void, Vengeance of Dark Magic\",2.37\\r\\n708,Lirtastsya71,21,Male,67,\"Celeste, Incarnation of the Corrupted\",3.46\\r\\n709,Lisast87,19,Male,75,Brutality Ivory Warmace,2.42\\r\\n710,Lisossa25,22,Male,99,\"Expiration, Warscythe Of Lost Worlds\",1.71\\r\\n711,Chadolyla44,20,Male,94,Mourning Blade,3.49\\r\\n712,Lisilsa62,25,Male,92,Final Critic,4.88\\r\\n713,Iasur80,22,Male,46,Hopeless Ebon Dualblade,1.33\\r\\n714,Tyidaim51,16,Female,103,Singed Scalpel,4.35\\r\\n715,Eusurdeu49,23,Male,8,\"Purgatory, Gem of Regret\",3.93\\r\\n716,Saena89,23,Male,106,Crying Steel Sickle,3.41\\r\\n717,Chanilsast61,30,Male,177,\"Winterthorn, Defender of Shifting Worlds\",2.08\\r\\n718,Ilirrasda54,37,Male,20,Netherbane,3.27\\r\\n719,Sundassa93,16,Male,158,\"Darkheart, Butcher of the Champion\",2.45\\r\\n720,Aidai73,19,Male,159,\"Oathbreaker, Spellblade of Trials\",3.08\\r\\n721,Indirrian56,20,Male,156,Soul-Forged Steel Shortsword,1.77\\r\\n722,Ilarin91,22,Male,92,Final Critic,4.88\\r\\n723,Lisista54,21,Male,177,\"Winterthorn, Defender of Shifting Worlds\",2.08\\r\\n724,Lisassasta50,25,Male,144,Blood Infused Guardian,1.94\\r\\n725,Malunil62,18,Male,72,Winter\\'s Bite,3.77\\r\\n726,Iduelis31,23,Male,21,Souleater,1.1\\r\\n727,Yathecal82,20,Female,104,Gladiator\\'s Glaive,1.93\\r\\n728,Chanosiaya39,44,Male,93,Apocalyptic Battlescythe,1.97\\r\\n729,Assylla81,20,Male,74,Yearning Crusher,4.18\\r\\n730,Aidaira26,30,Male,178,\"Oathbreaker, Last Hope of the Breaking Storm\",4.23\\r\\n731,Eudanu84,22,Female,12,Dawne,1.02\\r\\n732,Eurithphos97,9,Male,97,\"Swan Song, Gouger Of Terror\",2.5\\r\\n733,Chamiman85,20,Male,66,Victor Iron Spikes,4.4\\r\\n734,Arin32,25,Male,165,Bone Crushing Silver Skewer,4.86\\r\\n735,Leetirraya83,24,Male,54,Eternal Cleaver,2.5\\r\\n736,Tyialisti80,23,Male,58,\"Freak\\'s Bite, Favor of Holy Might\",4.14\\r\\n737,Marundi65,22,Male,149,\"Tranquility, Razor of Black Magic\",1.75\\r\\n738,Eusur90,36,Male,121,Massacre,1.6\\r\\n739,Mindirranya33,35,Male,61,Ragnarok,3.87\\r\\n740,Reunasu60,22,Female,127,\"Heartseeker, Reaver of Souls\",3.92\\r\\n741,Phiallylis33,19,Male,145,Fiery Glass Crusader,4.58\\r\\n742,Isty55,20,Male,5,Putrid Fan,4.08\\r\\n743,Frichilsa31,15,Male,110,Suspension,1.44\\r\\n744,Chanastst38,22,Male,94,Mourning Blade,3.49\\r\\n745,Chanista95,39,Male,37,\"Shadow Strike, Glory of Ending Hope\",3.16\\r\\n746,Aellyria80,23,Male,159,\"Oathbreaker, Spellblade of Trials\",3.08\\r\\n747,Siarithria38,38,Other / Non-Disclosed,146,Warped Iron Scimitar,3.1\\r\\n748,Rastynusuir31,20,Male,55,Vindictive Glass Edge,2.27\\r\\n749,Chanossanya44,20,Male,53,Vengeance Cleaver,2.05\\r\\n750,Iljask75,22,Male,167,\"Malice, Legacy of the Queen\",3.61\\r\\n751,Lisjaskan36,11,Male,30,Stormcaller,3.36\\r\\n752,Mindjasksya61,17,Male,112,Worldbreaker,2.6\\r\\n753,Frichirranya75,36,Male,178,\"Oathbreaker, Last Hope of the Breaking Storm\",4.23\\r\\n754,Pheosurllorin41,23,Female,79,\"Alpha, Oath of Zeal\",4.05\\r\\n755,Raesty92,12,Male,76,Haunted Bronzed Bludgeon,3.15\\r\\n756,Ilast79,20,Male,73,Ritual Mace,2.05\\r\\n757,Eratiel90,18,Male,57,\"Despair, Favor of Due Diligence\",4.6\\r\\n758,Iral74,21,Male,182,Toothpick,4.03\\r\\n759,Tyaelorap29,25,Male,72,Winter\\'s Bite,3.77\\r\\n760,Aithelis62,21,Male,44,Bonecarvin Battle Axe,2.38\\r\\n761,Assim27,45,Male,17,\"Lazarus, Terror of the Earth\",1.7\\r\\n762,Asur53,26,Male,110,Suspension,1.44\\r\\n763,Lassilsala30,21,Male,85,Malificent Bag,1.75\\r\\n764,Saedaiphos46,18,Male,113,Solitude\\'s Reaver,4.07\\r\\n765,Irith83,18,Male,130,Alpha,2.07\\r\\n766,Aelastirin39,23,Male,58,\"Freak\\'s Bite, Favor of Holy Might\",4.14\\r\\n767,Ilmol66,8,Female,92,Final Critic,4.88\\r\\n768,Assassasta79,38,Male,92,Final Critic,4.88\\r\\n769,Ilosian36,15,Male,145,Fiery Glass Crusader,4.58\\r\\n770,Lirtosia63,34,Male,12,Dawne,1.02\\r\\n771,Iskossasda43,16,Male,25,Hero Cane,4.35\\r\\n772,Asur53,26,Male,136,Ghastly Adamantite Protector,3.58\\r\\n773,Hala31,21,Male,19,\"Pursuit, Cudgel of Necromancy\",1.02\\r\\n774,Jiskjask80,11,Male,92,Final Critic,4.19\\r\\n775,Aethedru70,21,Female,60,Wolf,3.54\\r\\n776,Iral74,21,Male,164,Exiled Doomblade,1.63\\r\\n777,Yathecal72,20,Male,67,\"Celeste, Incarnation of the Corrupted\",3.46\\r\\n778,Sisur91,7,Male,92,Final Critic,4.19\\r\\n779,Ennrian78,24,Male,50,Dawn,4.6'}"
            ]
          },
          "metadata": {
            "tags": []
          },
          "execution_count": 3
        }
      ]
    },
    {
      "cell_type": "code",
      "metadata": {
        "id": "xX0WImlPFV3a",
        "colab_type": "code",
        "colab": {}
      },
      "source": [
        "## Library \n",
        "\n",
        "import pandas as pd "
      ],
      "execution_count": 3,
      "outputs": []
    },
    {
      "cell_type": "code",
      "metadata": {
        "id": "lXVC0ExuFdWQ",
        "colab_type": "code",
        "colab": {
          "base_uri": "https://localhost:8080/",
          "height": 326
        },
        "outputId": "302c85a4-591d-4798-ecf3-60fa624436c9"
      },
      "source": [
        "## File to load \n",
        "\n",
        "file_to_load = \"purchase_data.csv\"\n",
        "\n",
        "## Read purchasing file and store into pandas data frame\n",
        "\n",
        "purchase_data = pd.read_csv(file_to_load)\n",
        "\n",
        "print(purchase_data)"
      ],
      "execution_count": 4,
      "outputs": [
        {
          "output_type": "stream",
          "text": [
            "     Purchase ID  ... Price\n",
            "0              0  ...  3.53\n",
            "1              1  ...  1.56\n",
            "2              2  ...  4.88\n",
            "3              3  ...  3.27\n",
            "4              4  ...  1.44\n",
            "..           ...  ...   ...\n",
            "775          775  ...  3.54\n",
            "776          776  ...  1.63\n",
            "777          777  ...  3.46\n",
            "778          778  ...  4.19\n",
            "779          779  ...  4.60\n",
            "\n",
            "[780 rows x 7 columns]\n"
          ],
          "name": "stdout"
        }
      ]
    },
    {
      "cell_type": "code",
      "metadata": {
        "id": "4nYo0QCFIOLv",
        "colab_type": "code",
        "colab": {
          "base_uri": "https://localhost:8080/",
          "height": 62
        },
        "outputId": "ebc532cc-e71c-424e-d020-b27e10b6a945"
      },
      "source": [
        "## Player count \n",
        "\n",
        "total_players = len(purchase_data.SN.unique())\n",
        "\n",
        "Total = pd.DataFrame({\"Total number of players\": [total_players]})\n",
        "print(Total)\n"
      ],
      "execution_count": 5,
      "outputs": [
        {
          "output_type": "stream",
          "text": [
            "   Total number of players\n",
            "0                      576\n"
          ],
          "name": "stdout"
        }
      ]
    },
    {
      "cell_type": "code",
      "metadata": {
        "id": "VisCYpYBKlgO",
        "colab_type": "code",
        "colab": {
          "base_uri": "https://localhost:8080/",
          "height": 584
        },
        "outputId": "0df87417-0020-414d-c66f-99e3eeb75334"
      },
      "source": [
        "## Purchasing Analysis (total)\n",
        "\n",
        "  #### Run basic calculations to obtain number of unique items, average price, etc.\n",
        "    ## Create a summary data frame to hold the results\n",
        "    ## Optional: give the displayed data cleaner formatting\n",
        "    ## Display the summary data frame\n",
        "\n",
        "\n",
        "Unique_items  = purchase_data.loc[purchase_data[\"Item ID\"].unique()].copy() \n",
        "print(Unique_items)\n",
        "\n",
        "Products =  Unique_items['Item ID'].count()\n",
        "print(Products)\n",
        "\n",
        "Price_purchase = purchase_data[\"Price\"].mean()\n",
        "print(Price_purchase)\n",
        "\n",
        "Number_purchase = purchase_data[\"Purchase ID\"].count()\n",
        "print(Number_purchase)\n",
        "\n",
        "Total_revenue = purchase_data[\"Price\"].sum()\n",
        "print(Total_revenue)\n",
        "\n",
        "\n",
        "\n",
        "summary_analysis_total = pd.DataFrame({\"Number of unique items\": [Products], \"Average purchase price\": [Price_purchase], \"Total number of purchase\": [Number_purchase], \"Total Revenue\": [Total_revenue]})\n",
        "print(summary_analysis_total)\n",
        "\n",
        "\n",
        "summary_analysis_total[\"Average purchase price\"] = summary_analysis_total[\"Average purchase price\"].map(\"${:.2f}\".format)\n",
        "summary_analysis_total[\"Total Revenue\"] = summary_analysis_total[\"Total Revenue\"].map(\"${:.2f}\".format)\n",
        "\n",
        "summary_analysis_total\n",
        "\n",
        "\n",
        "  \n",
        "\n"
      ],
      "execution_count": 7,
      "outputs": [
        {
          "output_type": "stream",
          "text": [
            "     Purchase ID            SN  ...                             Item Name Price\n",
            "108          108  Sondadarya58  ...                        Malificent Bag  1.75\n",
            "143          143      Eyista89  ...                        Venom Claymore  1.29\n",
            "92            92  Chadistaya75  ...  Betrayal, Whisper of Grieving Widows  3.94\n",
            "100          100  Pheodaisun84  ...                                 Dawne  1.02\n",
            "131          131    Jiskassa76  ...                           Piece Maker  1.87\n",
            "..           ...           ...  ...                                   ...   ...\n",
            "47            47    Chanuchi25  ...                           Shadowsteel  3.97\n",
            "130          130   Maridisya31  ...                                Agatha  3.08\n",
            "90            90    Undosian34  ...                                  Wolf  3.54\n",
            "177          177      Syathe73  ...               Warped Diamond Crusader  1.40\n",
            "104          104   Thryallym62  ...                     Vengeance Cleaver  2.05\n",
            "\n",
            "[179 rows x 7 columns]\n",
            "179\n",
            "3.050987179487176\n",
            "780\n",
            "2379.77\n",
            "   Number of unique items  ...  Total Revenue\n",
            "0                     179  ...        2379.77\n",
            "\n",
            "[1 rows x 4 columns]\n"
          ],
          "name": "stdout"
        },
        {
          "output_type": "execute_result",
          "data": {
            "text/html": [
              "<div>\n",
              "<style scoped>\n",
              "    .dataframe tbody tr th:only-of-type {\n",
              "        vertical-align: middle;\n",
              "    }\n",
              "\n",
              "    .dataframe tbody tr th {\n",
              "        vertical-align: top;\n",
              "    }\n",
              "\n",
              "    .dataframe thead th {\n",
              "        text-align: right;\n",
              "    }\n",
              "</style>\n",
              "<table border=\"1\" class=\"dataframe\">\n",
              "  <thead>\n",
              "    <tr style=\"text-align: right;\">\n",
              "      <th></th>\n",
              "      <th>Number of unique items</th>\n",
              "      <th>Average purchase price</th>\n",
              "      <th>Total number of purchase</th>\n",
              "      <th>Total Revenue</th>\n",
              "    </tr>\n",
              "  </thead>\n",
              "  <tbody>\n",
              "    <tr>\n",
              "      <th>0</th>\n",
              "      <td>179</td>\n",
              "      <td>$3.05</td>\n",
              "      <td>780</td>\n",
              "      <td>$2379.77</td>\n",
              "    </tr>\n",
              "  </tbody>\n",
              "</table>\n",
              "</div>"
            ],
            "text/plain": [
              "   Number of unique items  ... Total Revenue\n",
              "0                     179  ...      $2379.77\n",
              "\n",
              "[1 rows x 4 columns]"
            ]
          },
          "metadata": {
            "tags": []
          },
          "execution_count": 7
        }
      ]
    },
    {
      "cell_type": "code",
      "metadata": {
        "id": "GK7rjYHqW-zv",
        "colab_type": "code",
        "colab": {
          "base_uri": "https://localhost:8080/",
          "height": 326
        },
        "outputId": "0e25a3a3-6a6f-4137-d996-86341ab85573"
      },
      "source": [
        "## Gender Demographics \n",
        "  \n",
        "genero_1 = purchase_data.groupby(['Gender'])\n",
        "print(genero_1)\n",
        "\n",
        "tipo_genero = genero_1['SN'].nunique()\n",
        "print(tipo_genero)\n",
        "\n",
        "total_genero = tipo_genero.sum()\n",
        "print(total_genero)\n",
        "\n",
        "\n",
        "  ### Percentage and Count of Male Players\n",
        "male_total = tipo_genero['Male']\n",
        "male_porcentaje = (male_total/total_genero) * 100\n",
        "print(male_porcentaje)\n",
        "\n",
        "  ### Percentage and Count of Female Players\n",
        "female_total = tipo_genero['Female']\n",
        "female_porcentaje = (female_total/total_genero) * 100\n",
        "print(female_porcentaje)\n",
        "\n",
        "  ### Percentage and Count of Other / Non-Disclosed\n",
        "\n",
        "other_total = tipo_genero['Other / Non-Disclosed']\n",
        "other_porcentaje = (other_total/total_genero) * 100\n",
        "print(other_porcentaje)  \n",
        "\n",
        "lista1 = pd.DataFrame({\"Male\":[male_total,male_porcentaje], \"Female\":[female_total,female_porcentaje],\"Other / Non-Disclosed\": [other_total,other_porcentaje]},\n",
        "                      [\"Total Count\", \"Percentage of Players\"])\n",
        "df1 = lista1.transpose()\n",
        "\n",
        "\n",
        "\n",
        "print(df1)                        \n",
        "                              \n",
        "\n",
        "\n"
      ],
      "execution_count": 17,
      "outputs": [
        {
          "output_type": "stream",
          "text": [
            "<pandas.core.groupby.generic.DataFrameGroupBy object at 0x7f54c60e7d30>\n",
            "Gender\n",
            "Female                    81\n",
            "Male                     484\n",
            "Other / Non-Disclosed     11\n",
            "Name: SN, dtype: int64\n",
            "576\n",
            "84.02777777777779\n",
            "14.0625\n",
            "1.9097222222222223\n",
            "                       Total Count  Percentage of Players\n",
            "Male                         484.0              84.027778\n",
            "Female                        81.0              14.062500\n",
            "Other / Non-Disclosed         11.0               1.909722\n"
          ],
          "name": "stdout"
        }
      ]
    },
    {
      "cell_type": "code",
      "metadata": {
        "id": "cPthSVIhUNzU",
        "colab_type": "code",
        "colab": {
          "base_uri": "https://localhost:8080/",
          "height": 128
        },
        "outputId": "eab18f27-ab92-4321-dd00-16e2015d3159"
      },
      "source": [
        "## Purchasing Analysis (Gender)\n",
        "\n",
        " ### Run basic calculations to obtain purchase count, avg. purchase price, avg. purchase total per person etc. by gender\n",
        " ### Create a summary data frame to hold the results\n",
        " ### Optional: give the displayed data cleaner formatting\n",
        " ### Display the summary data frame\n",
        "\n",
        "\n",
        "tipo_genero= purchase_data['Gender'].value_counts()\n",
        "print(tipo_genero)\n",
        "\n",
        "average_1 = purchase_data.groupby('Gender')['Price'].mean()\n",
        "average_1\n",
        "\n",
        "value_1 = purchase_data.groupby('Gender')['Price'].sum()\n",
        "value_1\n",
        "\n",
        "average_per_person = value_1.Female/tipo_genero.Female\n",
        "average_per_person\n",
        "\n",
        "average_per_male = value_1.Male/tipo_genero.Male\n",
        "average_per_male\n",
        "\n",
        "average_per_other = value_1[\"Other / Non-Disclosed\"]/tipo_genero[\"Other / Non-Disclosed\"]\n",
        "average_per_other\n",
        "\n"
      ],
      "execution_count": 18,
      "outputs": [
        {
          "output_type": "stream",
          "text": [
            "Male                     652\n",
            "Female                   113\n",
            "Other / Non-Disclosed     15\n",
            "Name: Gender, dtype: int64\n"
          ],
          "name": "stdout"
        },
        {
          "output_type": "execute_result",
          "data": {
            "text/plain": [
              "3.3460000000000005"
            ]
          },
          "metadata": {
            "tags": []
          },
          "execution_count": 18
        }
      ]
    },
    {
      "cell_type": "code",
      "metadata": {
        "id": "t4CMVYULZ3nG",
        "colab_type": "code",
        "colab": {
          "base_uri": "https://localhost:8080/",
          "height": 380
        },
        "outputId": "930112d7-a2fd-4705-c3fe-c35c4560a879"
      },
      "source": [
        "## Age Demographics\n",
        "\n",
        "  ### Establish bins for ages\n",
        "  ### Categorize the existing players using the age bins. Hint: use pd.cut()\n",
        "  ### Calculate the numbers and percentages by age group\n",
        "  ### Create a summary data frame to hold the results\n",
        "  ### Optional: round the percentage column to two decimal points\n",
        "  ### Display Age Demographics Table\n",
        "\n",
        "\n",
        "bins = [0,9.90, 14.90, 19.90, 24.90, 29.90, 34.90, 39.90, 99999]\n",
        "\n",
        "group_names = [\"<10\", \"10-14\", \"15-19\", \"20-24\", \"25-29\", \"30-34\", \"35-39\", \"40+\"]\n",
        "\n",
        "purchase_data[\"Ages\"] = pd.cut(purchase_data[\"Age\"], bins, labels=group_names)\n",
        "purchase_data\n",
        "\n",
        "group_por_ages = purchase_data.groupby('Ages')\n",
        "group_por_ages\n",
        "\n",
        "\n",
        "age_counts = group_por_ages['SN'].nunique()  \n",
        "total_unique_players = age_counts.sum()\n",
        "\n",
        "age_list = pd.DataFrame([{\"Unique Players\": age_counts[\"<10\"], \"Percentage\": (age_counts[\"<10\"] * 100) / total_unique_players},\n",
        "            {\"Unique Players\": age_counts[\"10-14\"], \"Percentage\": (age_counts[\"10-14\"] * 100) / total_unique_players},\n",
        "            {\"Unique Players\": age_counts[\"15-19\"], \"Percentage\": (age_counts[\"15-19\"] * 100) / total_unique_players},\n",
        "            {\"Unique Players\": age_counts[\"20-24\"], \"Percentage\": (age_counts[\"20-24\"] * 100) / total_unique_players},\n",
        "            {\"Unique Players\": age_counts[\"25-29\"], \"Percentage\": (age_counts[\"25-29\"] * 100) / total_unique_players},\n",
        "            {\"Unique Players\": age_counts[\"30-34\"], \"Percentage\": (age_counts[\"30-34\"] * 100) / total_unique_players},\n",
        "            {\"Unique Players\": age_counts[\"35-39\"], \"Percentage\": (age_counts[\"35-39\"] * 100) / total_unique_players},\n",
        "            {\"Unique Players\": age_counts[\"40+\"], \"Percentage\": (age_counts[\"40+\"] * 100) / total_unique_players}])\n",
        "\n",
        "\n",
        "age_1 = age_list.rename(index={0:'<10', 1:'10-14', 2:'15-19', 3:'20-24', 4:'25-29', 5:'30-34', 6:'35-39', 7:'40+'}, inplace=True)\n",
        "age_1\n",
        "\n",
        "\n",
        "age_list[\"Percentage\"] = age_list[\"Percentage\"].map(\"{:.2f}%\".format)\n",
        "age_list = age_list[[\"Unique Players\", \"Percentage\"]]\n",
        "\n",
        "\n",
        "age_list\n"
      ],
      "execution_count": 126,
      "outputs": [
        {
          "output_type": "execute_result",
          "data": {
            "text/html": [
              "<div>\n",
              "<style scoped>\n",
              "    .dataframe tbody tr th:only-of-type {\n",
              "        vertical-align: middle;\n",
              "    }\n",
              "\n",
              "    .dataframe tbody tr th {\n",
              "        vertical-align: top;\n",
              "    }\n",
              "\n",
              "    .dataframe thead th {\n",
              "        text-align: right;\n",
              "    }\n",
              "</style>\n",
              "<table border=\"1\" class=\"dataframe\">\n",
              "  <thead>\n",
              "    <tr style=\"text-align: right;\">\n",
              "      <th></th>\n",
              "      <th>Unique Players</th>\n",
              "      <th>Percentage</th>\n",
              "    </tr>\n",
              "  </thead>\n",
              "  <tbody>\n",
              "    <tr>\n",
              "      <th>&lt;10</th>\n",
              "      <td>17</td>\n",
              "      <td>2.95%</td>\n",
              "    </tr>\n",
              "    <tr>\n",
              "      <th>10-14</th>\n",
              "      <td>22</td>\n",
              "      <td>3.82%</td>\n",
              "    </tr>\n",
              "    <tr>\n",
              "      <th>15-19</th>\n",
              "      <td>107</td>\n",
              "      <td>18.58%</td>\n",
              "    </tr>\n",
              "    <tr>\n",
              "      <th>20-24</th>\n",
              "      <td>258</td>\n",
              "      <td>44.79%</td>\n",
              "    </tr>\n",
              "    <tr>\n",
              "      <th>25-29</th>\n",
              "      <td>77</td>\n",
              "      <td>13.37%</td>\n",
              "    </tr>\n",
              "    <tr>\n",
              "      <th>30-34</th>\n",
              "      <td>52</td>\n",
              "      <td>9.03%</td>\n",
              "    </tr>\n",
              "    <tr>\n",
              "      <th>35-39</th>\n",
              "      <td>31</td>\n",
              "      <td>5.38%</td>\n",
              "    </tr>\n",
              "    <tr>\n",
              "      <th>40+</th>\n",
              "      <td>12</td>\n",
              "      <td>2.08%</td>\n",
              "    </tr>\n",
              "  </tbody>\n",
              "</table>\n",
              "</div>"
            ],
            "text/plain": [
              "       Unique Players Percentage\n",
              "<10                17      2.95%\n",
              "10-14              22      3.82%\n",
              "15-19             107     18.58%\n",
              "20-24             258     44.79%\n",
              "25-29              77     13.37%\n",
              "30-34              52      9.03%\n",
              "35-39              31      5.38%\n",
              "40+                12      2.08%"
            ]
          },
          "metadata": {
            "tags": []
          },
          "execution_count": 126
        }
      ]
    },
    {
      "cell_type": "code",
      "metadata": {
        "id": "AvBSIN9BvNO4",
        "colab_type": "code",
        "colab": {}
      },
      "source": [
        "## Purchasing Annalysis (Age)\n",
        "\n",
        "    ### Bin the purchase_data data frame by age\n",
        "    ### Run basic calculations to obtain purchase count, avg. purchase price, avg. purchase total per person etc. in the table below\n",
        "    ### Create a summary data frame to hold the results\n",
        "    ### Optional: give the displayed data cleaner formatting\n",
        "    ### Display the summary data frame\n",
        "\n",
        "\n",
        "\n"
      ],
      "execution_count": 301,
      "outputs": []
    },
    {
      "cell_type": "code",
      "metadata": {
        "id": "0jJohQxF3Q3v",
        "colab_type": "code",
        "colab": {
          "base_uri": "https://localhost:8080/",
          "height": 300
        },
        "outputId": "52a3ea90-a22a-4f7d-fe0c-6a103faf00de"
      },
      "source": [
        "## Top Spenders\n",
        "   \n",
        "  ### Run basic calculations to obtain the results in the table below\n",
        "  ### Create a summary data frame to hold the results\n",
        "  ### Sort the total purchase value column in descending order\n",
        "  ### Optional: give the displayed data cleaner formatting\n",
        "  ### Display a preview of the summary data frame\n",
        "\n",
        "groupedby_player = purchase_data.groupby(['SN'])\n",
        "\n",
        "\n",
        "\n",
        "player_listplayers = pd.DataFrame(groupedby_player['Price'].sum())\n",
        "\n",
        "player_listplayers['Purchase Count'] = groupedby_player['Price'].count()\n",
        "\n",
        "player_listplayers['Average Purchase Price'] = groupedby_player['Price'].mean()\n",
        "\n",
        "player_listplayers.columns = [\"Total Purchases\", \"Purchase Count\", \"Average Purchase Price\"]\n",
        "\n",
        "player_listplayers\n",
        "\n",
        "player_listplayers.sort_values(by='Total Purchases', ascending=False, inplace=True)\n",
        "\n",
        "player_listplayers[\"Average Purchase Price\"] = player_listplayers[\"Average Purchase Price\"].map(\"${:.2f}\".format)\n",
        "\n",
        "player_listplayers[\"Total Purchases\"] = player_listplayers[\"Total Purchases\"].map(\"${:.2f}\".format)\n",
        "\n",
        "player_listplayers\n",
        "\n",
        "player_listplayers.head()"
      ],
      "execution_count": 104,
      "outputs": [
        {
          "output_type": "execute_result",
          "data": {
            "text/html": [
              "<div>\n",
              "<style scoped>\n",
              "    .dataframe tbody tr th:only-of-type {\n",
              "        vertical-align: middle;\n",
              "    }\n",
              "\n",
              "    .dataframe tbody tr th {\n",
              "        vertical-align: top;\n",
              "    }\n",
              "\n",
              "    .dataframe thead th {\n",
              "        text-align: right;\n",
              "    }\n",
              "</style>\n",
              "<table border=\"1\" class=\"dataframe\">\n",
              "  <thead>\n",
              "    <tr style=\"text-align: right;\">\n",
              "      <th></th>\n",
              "      <th>Total Purchases</th>\n",
              "      <th>Purchase Count</th>\n",
              "      <th>Average Purchase Price</th>\n",
              "    </tr>\n",
              "    <tr>\n",
              "      <th>SN</th>\n",
              "      <th></th>\n",
              "      <th></th>\n",
              "      <th></th>\n",
              "    </tr>\n",
              "  </thead>\n",
              "  <tbody>\n",
              "    <tr>\n",
              "      <th>Lisosia93</th>\n",
              "      <td>$18.96</td>\n",
              "      <td>5</td>\n",
              "      <td>$3.79</td>\n",
              "    </tr>\n",
              "    <tr>\n",
              "      <th>Idastidru52</th>\n",
              "      <td>$15.45</td>\n",
              "      <td>4</td>\n",
              "      <td>$3.86</td>\n",
              "    </tr>\n",
              "    <tr>\n",
              "      <th>Chamjask73</th>\n",
              "      <td>$13.83</td>\n",
              "      <td>3</td>\n",
              "      <td>$4.61</td>\n",
              "    </tr>\n",
              "    <tr>\n",
              "      <th>Iral74</th>\n",
              "      <td>$13.62</td>\n",
              "      <td>4</td>\n",
              "      <td>$3.40</td>\n",
              "    </tr>\n",
              "    <tr>\n",
              "      <th>Iskadarya95</th>\n",
              "      <td>$13.10</td>\n",
              "      <td>3</td>\n",
              "      <td>$4.37</td>\n",
              "    </tr>\n",
              "  </tbody>\n",
              "</table>\n",
              "</div>"
            ],
            "text/plain": [
              "            Total Purchases  Purchase Count Average Purchase Price\n",
              "SN                                                                \n",
              "Lisosia93            $18.96               5                  $3.79\n",
              "Idastidru52          $15.45               4                  $3.86\n",
              "Chamjask73           $13.83               3                  $4.61\n",
              "Iral74               $13.62               4                  $3.40\n",
              "Iskadarya95          $13.10               3                  $4.37"
            ]
          },
          "metadata": {
            "tags": []
          },
          "execution_count": 104
        }
      ]
    },
    {
      "cell_type": "code",
      "metadata": {
        "id": "DqTTpxeiBtnM",
        "colab_type": "code",
        "colab": {
          "base_uri": "https://localhost:8080/",
          "height": 300
        },
        "outputId": "eec6e92a-a265-4a93-8d59-a200ca7261df"
      },
      "source": [
        "## Most Popular Items\n",
        "\n",
        "   ### Retrieve the Item ID, Item Name, and Item Price columns\n",
        "   ### Group by Item ID and Item Name. Perform calculations to obtain purchase count, item price, and total purchase value\n",
        "   ### Create a summary data frame to hold the results\n",
        "   ### Sort the purchase count column in descending order\n",
        "   ### Optional: give the displayed data cleaner formatting\n",
        "   ### Display a preview of the summary data frame\n",
        "\n",
        "\n",
        "popular = purchase_data.iloc[:,[4,5,6]]\n",
        "popular\n",
        "\n",
        "grupo_item = popular.groupby(['Item ID', 'Item Name'])\n",
        "grupo_item\n",
        "\n",
        "compras = grupo_item['Price'].sum()\n",
        "compras\n",
        "\n",
        "items_compras = grupo_item['Item ID'].count()\n",
        "items_compras\n",
        "\n",
        "##Data Frame\n",
        "\n",
        "popular_1 = pd.DataFrame(items_compras)\n",
        "popular_1['Total Purchase Value'] = compras\n",
        "popular_1.columns = [\"Purchase Count\", \"Total Purchase Value\"]\n",
        "popular_1 = popular_1.sort_values(by='Item ID')\n",
        "\n",
        "prices_1 = purchase_data[['Item ID', 'Item Name', 'Price']]\n",
        "prices_ll = prices_df.drop_duplicates(['Item ID'], keep = 'last')\n",
        "prices_ll = prices_nodup_df.sort_values(by=['Item ID'])\n",
        "prices_ll.set_index(['Item ID', 'Item Name'], inplace=True)\n",
        "\n",
        "popular_1 = popular_1.join(prices_post_df)\n",
        "profit_1 = popular_1\n",
        "\n",
        "popular_1 = popular_1.sort_values(by='Purchase Count', ascending=False)\n",
        "popular_1[\"Price\"] = popular_1[\"Price\"].map(\"${:.2f}\".format)\n",
        "popular_1[\"Total Purchase Value\"] = popular_1[\"Total Purchase Value\"].map(\"${:.2f}\".format)\n",
        "\n",
        "popular_df.head()\n",
        "\n",
        "\n",
        "\n"
      ],
      "execution_count": 146,
      "outputs": [
        {
          "output_type": "execute_result",
          "data": {
            "text/html": [
              "<div>\n",
              "<style scoped>\n",
              "    .dataframe tbody tr th:only-of-type {\n",
              "        vertical-align: middle;\n",
              "    }\n",
              "\n",
              "    .dataframe tbody tr th {\n",
              "        vertical-align: top;\n",
              "    }\n",
              "\n",
              "    .dataframe thead th {\n",
              "        text-align: right;\n",
              "    }\n",
              "</style>\n",
              "<table border=\"1\" class=\"dataframe\">\n",
              "  <thead>\n",
              "    <tr style=\"text-align: right;\">\n",
              "      <th></th>\n",
              "      <th></th>\n",
              "      <th>Purchase Count</th>\n",
              "      <th>Total Purchase Value</th>\n",
              "      <th>Price</th>\n",
              "    </tr>\n",
              "    <tr>\n",
              "      <th>Item ID</th>\n",
              "      <th>Item Name</th>\n",
              "      <th></th>\n",
              "      <th></th>\n",
              "      <th></th>\n",
              "    </tr>\n",
              "  </thead>\n",
              "  <tbody>\n",
              "    <tr>\n",
              "      <th>92</th>\n",
              "      <th>Final Critic</th>\n",
              "      <td>13</td>\n",
              "      <td>$59.99</td>\n",
              "      <td>$4.19</td>\n",
              "    </tr>\n",
              "    <tr>\n",
              "      <th>178</th>\n",
              "      <th>Oathbreaker, Last Hope of the Breaking Storm</th>\n",
              "      <td>12</td>\n",
              "      <td>$50.76</td>\n",
              "      <td>$4.23</td>\n",
              "    </tr>\n",
              "    <tr>\n",
              "      <th>145</th>\n",
              "      <th>Fiery Glass Crusader</th>\n",
              "      <td>9</td>\n",
              "      <td>$41.22</td>\n",
              "      <td>$4.58</td>\n",
              "    </tr>\n",
              "    <tr>\n",
              "      <th>132</th>\n",
              "      <th>Persuasion</th>\n",
              "      <td>9</td>\n",
              "      <td>$28.99</td>\n",
              "      <td>$3.33</td>\n",
              "    </tr>\n",
              "    <tr>\n",
              "      <th>108</th>\n",
              "      <th>Extraction, Quickblade Of Trembling Hands</th>\n",
              "      <td>9</td>\n",
              "      <td>$31.77</td>\n",
              "      <td>$3.53</td>\n",
              "    </tr>\n",
              "  </tbody>\n",
              "</table>\n",
              "</div>"
            ],
            "text/plain": [
              "                                                      Purchase Count  ...  Price\n",
              "Item ID Item Name                                                     ...       \n",
              "92      Final Critic                                              13  ...  $4.19\n",
              "178     Oathbreaker, Last Hope of the Breaking Storm              12  ...  $4.23\n",
              "145     Fiery Glass Crusader                                       9  ...  $4.58\n",
              "132     Persuasion                                                 9  ...  $3.33\n",
              "108     Extraction, Quickblade Of Trembling Hands                  9  ...  $3.53\n",
              "\n",
              "[5 rows x 3 columns]"
            ]
          },
          "metadata": {
            "tags": []
          },
          "execution_count": 146
        }
      ]
    },
    {
      "cell_type": "code",
      "metadata": {
        "id": "D-lJb8RtXg1G",
        "colab_type": "code",
        "colab": {
          "base_uri": "https://localhost:8080/",
          "height": 300
        },
        "outputId": "f58fc377-4e76-47d6-ee24-d886ce2ee28b"
      },
      "source": [
        "## Most Profitable Items\n",
        "\n",
        "   ###Sort the above table by total purchase value in descending order\n",
        "   ### Optional: give the displayed data cleaner formatting\n",
        "   ### Display a preview of the data frame\n",
        "\n",
        "profit_1 = profit_1.sort_values(by='Total Purchase Value', ascending=False)\n",
        "profit_1[\"Price\"] = profit_1[\"Price\"].map(\"${:.2f}\".format)\n",
        "profit_1[\"Total Purchase Value\"] = profit_1[\"Total Purchase Value\"].map(\"${:.2f}\".format)\n",
        "\n",
        "profit_1.head()\n",
        "\n"
      ],
      "execution_count": 147,
      "outputs": [
        {
          "output_type": "execute_result",
          "data": {
            "text/html": [
              "<div>\n",
              "<style scoped>\n",
              "    .dataframe tbody tr th:only-of-type {\n",
              "        vertical-align: middle;\n",
              "    }\n",
              "\n",
              "    .dataframe tbody tr th {\n",
              "        vertical-align: top;\n",
              "    }\n",
              "\n",
              "    .dataframe thead th {\n",
              "        text-align: right;\n",
              "    }\n",
              "</style>\n",
              "<table border=\"1\" class=\"dataframe\">\n",
              "  <thead>\n",
              "    <tr style=\"text-align: right;\">\n",
              "      <th></th>\n",
              "      <th></th>\n",
              "      <th>Purchase Count</th>\n",
              "      <th>Total Purchase Value</th>\n",
              "      <th>Price</th>\n",
              "    </tr>\n",
              "    <tr>\n",
              "      <th>Item ID</th>\n",
              "      <th>Item Name</th>\n",
              "      <th></th>\n",
              "      <th></th>\n",
              "      <th></th>\n",
              "    </tr>\n",
              "  </thead>\n",
              "  <tbody>\n",
              "    <tr>\n",
              "      <th>92</th>\n",
              "      <th>Final Critic</th>\n",
              "      <td>13</td>\n",
              "      <td>$59.99</td>\n",
              "      <td>$4.19</td>\n",
              "    </tr>\n",
              "    <tr>\n",
              "      <th>178</th>\n",
              "      <th>Oathbreaker, Last Hope of the Breaking Storm</th>\n",
              "      <td>12</td>\n",
              "      <td>$50.76</td>\n",
              "      <td>$4.23</td>\n",
              "    </tr>\n",
              "    <tr>\n",
              "      <th>82</th>\n",
              "      <th>Nirvana</th>\n",
              "      <td>9</td>\n",
              "      <td>$44.10</td>\n",
              "      <td>$4.90</td>\n",
              "    </tr>\n",
              "    <tr>\n",
              "      <th>145</th>\n",
              "      <th>Fiery Glass Crusader</th>\n",
              "      <td>9</td>\n",
              "      <td>$41.22</td>\n",
              "      <td>$4.58</td>\n",
              "    </tr>\n",
              "    <tr>\n",
              "      <th>103</th>\n",
              "      <th>Singed Scalpel</th>\n",
              "      <td>8</td>\n",
              "      <td>$34.80</td>\n",
              "      <td>$4.35</td>\n",
              "    </tr>\n",
              "  </tbody>\n",
              "</table>\n",
              "</div>"
            ],
            "text/plain": [
              "                                                      Purchase Count  ...  Price\n",
              "Item ID Item Name                                                     ...       \n",
              "92      Final Critic                                              13  ...  $4.19\n",
              "178     Oathbreaker, Last Hope of the Breaking Storm              12  ...  $4.23\n",
              "82      Nirvana                                                    9  ...  $4.90\n",
              "145     Fiery Glass Crusader                                       9  ...  $4.58\n",
              "103     Singed Scalpel                                             8  ...  $4.35\n",
              "\n",
              "[5 rows x 3 columns]"
            ]
          },
          "metadata": {
            "tags": []
          },
          "execution_count": 147
        }
      ]
    }
  ]
}